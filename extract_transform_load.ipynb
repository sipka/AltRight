{
 "cells": [
  {
   "cell_type": "markdown",
   "metadata": {},
   "source": [
    "# <center> ETL (Parler) </center>\n",
    "<center> Andrea Šipka, Social Computing Group, University of Zurich </center>"
   ]
  },
  {
   "cell_type": "markdown",
   "metadata": {},
   "source": [
    "## Imports and settings"
   ]
  },
  {
   "cell_type": "code",
   "execution_count": 367,
   "metadata": {},
   "outputs": [],
   "source": [
    "import pandas as pd\n",
    "import numpy as np\n",
    "import matplotlib.pyplot as plt\n",
    "import math\n",
    "\n",
    "pd.set_option('display.max_columns', 300)\n",
    "pd.options.display.max_rows = 999\n",
    "pd.options.mode.chained_assignment = None\n",
    "plt.rcParams.update({'font.size': 16})\n",
    "plt.style.use('bmh')"
   ]
  },
  {
   "cell_type": "markdown",
   "metadata": {},
   "source": [
    "### Only keep lines that have data, removing system messages"
   ]
  },
  {
   "cell_type": "code",
   "execution_count": 28,
   "metadata": {},
   "outputs": [],
   "source": [
    "with open('data/stopthesteal.txt') as oldfile, open('data/stopthesteal_clean.json', 'w') as newfile:\n",
    "    for line in oldfile:\n",
    "        if line[:8] == '{\"_id\":\"':       \n",
    "            if '[network]' in line:\n",
    "                newfile.write(line[:line.find('[network]')]+'\\n')\n",
    "            else:\n",
    "                newfile.write(line[:-2]+'\\n')"
   ]
  },
  {
   "cell_type": "code",
   "execution_count": 88,
   "metadata": {},
   "outputs": [],
   "source": [
    "with open('data/stopthesteal_latest.txt') as oldfile, open('data/stopthesteal_latest_clean.json', 'w') as newfile:\n",
    "    for line in oldfile:\n",
    "        if line[:8] == '{\"_id\":\"':       \n",
    "            if '[network]' in line:\n",
    "                newfile.write(line[:line.find('[network]')]+'\\n')\n",
    "            else:\n",
    "                newfile.write(line[:-2]+'\\n')"
   ]
  },
  {
   "cell_type": "markdown",
   "metadata": {},
   "source": [
    "### NB: You may need to manually remove a final newline and add a closing curly bracket in the json file created above\n",
    "\n",
    "TODO: Automate"
   ]
  },
  {
   "cell_type": "code",
   "execution_count": 119,
   "metadata": {},
   "outputs": [],
   "source": [
    "data = pd.read_json('data/stopthesteal_clean.json', lines=True)"
   ]
  },
  {
   "cell_type": "code",
   "execution_count": 120,
   "metadata": {},
   "outputs": [],
   "source": [
    "data_latest = pd.read_json('data/stopthesteal_latest_clean.json', lines=True)"
   ]
  },
  {
   "cell_type": "markdown",
   "metadata": {},
   "source": [
    "### Get the data about authors from json within json"
   ]
  },
  {
   "cell_type": "code",
   "execution_count": 123,
   "metadata": {},
   "outputs": [
    {
     "data": {
      "text/plain": [
       "(286354, 21)"
      ]
     },
     "execution_count": 123,
     "metadata": {},
     "output_type": "execute_result"
    }
   ],
   "source": [
    "userdata = pd.json_normalize(data.creator)\n",
    "userdata = userdata.add_prefix('creator_')\n",
    "userdata.shape"
   ]
  },
  {
   "cell_type": "code",
   "execution_count": 124,
   "metadata": {},
   "outputs": [
    {
     "data": {
      "text/plain": [
       "(92179, 21)"
      ]
     },
     "execution_count": 124,
     "metadata": {},
     "output_type": "execute_result"
    }
   ],
   "source": [
    "userdata_latest = pd.json_normalize(data_latest.creator)\n",
    "userdata_latest = userdata_latest.add_prefix('creator_')\n",
    "userdata_latest.shape"
   ]
  },
  {
   "cell_type": "code",
   "execution_count": 125,
   "metadata": {},
   "outputs": [],
   "source": [
    "parler_data = pd.concat([data,userdata], axis=1)"
   ]
  },
  {
   "cell_type": "code",
   "execution_count": 126,
   "metadata": {},
   "outputs": [],
   "source": [
    "parler_data_latest = pd.concat([data_latest,userdata_latest], axis=1)"
   ]
  },
  {
   "cell_type": "markdown",
   "metadata": {},
   "source": [
    "### Merge recent data with old data"
   ]
  },
  {
   "cell_type": "code",
   "execution_count": 130,
   "metadata": {},
   "outputs": [],
   "source": [
    "data = pd.concat([parler_data_latest[parler_data_latest.createdAt > 20201126142233], parler_data])"
   ]
  },
  {
   "cell_type": "code",
   "execution_count": 131,
   "metadata": {},
   "outputs": [
    {
     "data": {
      "text/plain": [
       "(321393, 42)"
      ]
     },
     "execution_count": 131,
     "metadata": {},
     "output_type": "execute_result"
    }
   ],
   "source": [
    "data.shape"
   ]
  },
  {
   "cell_type": "markdown",
   "metadata": {},
   "source": [
    "### Save to CSV"
   ]
  },
  {
   "cell_type": "code",
   "execution_count": 132,
   "metadata": {},
   "outputs": [],
   "source": [
    "data.to_csv('data/stopthesteal_parsed.csv')"
   ]
  },
  {
   "cell_type": "markdown",
   "metadata": {},
   "source": [
    "## Getting features cleaned up"
   ]
  },
  {
   "cell_type": "code",
   "execution_count": 178,
   "metadata": {},
   "outputs": [
    {
     "name": "stderr",
     "output_type": "stream",
     "text": [
      "/Users/andreasipka/opt/anaconda3/lib/python3.8/site-packages/IPython/core/interactiveshell.py:3071: DtypeWarning: Columns (5,42) have mixed types.Specify dtype option on import or set low_memory=False.\n",
      "  has_raised = await self.run_ast_nodes(code_ast.body, cell_name,\n"
     ]
    }
   ],
   "source": [
    "data = pd.read_csv('data/stopthesteal_parsed.csv')"
   ]
  },
  {
   "cell_type": "code",
   "execution_count": 179,
   "metadata": {},
   "outputs": [
    {
     "data": {
      "text/html": [
       "<div>\n",
       "<style scoped>\n",
       "    .dataframe tbody tr th:only-of-type {\n",
       "        vertical-align: middle;\n",
       "    }\n",
       "\n",
       "    .dataframe tbody tr th {\n",
       "        vertical-align: top;\n",
       "    }\n",
       "\n",
       "    .dataframe thead th {\n",
       "        text-align: right;\n",
       "    }\n",
       "</style>\n",
       "<table border=\"1\" class=\"dataframe\">\n",
       "  <thead>\n",
       "    <tr style=\"text-align: right;\">\n",
       "      <th></th>\n",
       "      <th>Unnamed: 0</th>\n",
       "      <th>_id</th>\n",
       "      <th>@</th>\n",
       "      <th>article</th>\n",
       "      <th>body</th>\n",
       "      <th>comments</th>\n",
       "      <th>createdAt</th>\n",
       "      <th>creator</th>\n",
       "      <th>depth</th>\n",
       "      <th>depthRaw</th>\n",
       "      <th>hashtags</th>\n",
       "      <th>id</th>\n",
       "      <th>impressions</th>\n",
       "      <th>links</th>\n",
       "      <th>preview</th>\n",
       "      <th>reposts</th>\n",
       "      <th>shareLink</th>\n",
       "      <th>sensitive</th>\n",
       "      <th>state</th>\n",
       "      <th>upvotes</th>\n",
       "      <th>parent</th>\n",
       "      <th>root</th>\n",
       "      <th>creator_id</th>\n",
       "      <th>creator_bio</th>\n",
       "      <th>creator_blocked</th>\n",
       "      <th>creator_coverPhoto</th>\n",
       "      <th>creator_followed</th>\n",
       "      <th>creator_human</th>\n",
       "      <th>creator_integration</th>\n",
       "      <th>creator_joined</th>\n",
       "      <th>creator_muted</th>\n",
       "      <th>creator_name</th>\n",
       "      <th>creator_rss</th>\n",
       "      <th>creator_private</th>\n",
       "      <th>creator_profilePhoto</th>\n",
       "      <th>creator_username</th>\n",
       "      <th>creator_verified</th>\n",
       "      <th>creator_verifiedComments</th>\n",
       "      <th>creator_badges</th>\n",
       "      <th>creator_score</th>\n",
       "      <th>creator_interactions</th>\n",
       "      <th>creator_state</th>\n",
       "      <th>creator_subscribed</th>\n",
       "    </tr>\n",
       "  </thead>\n",
       "  <tbody>\n",
       "    <tr>\n",
       "      <th>0</th>\n",
       "      <td>0</td>\n",
       "      <td>461b4cc3118142d2958a58ddeaa9f320</td>\n",
       "      <td>{}</td>\n",
       "      <td>0.0</td>\n",
       "      <td>So #sleepyjoe twist his ankle while playing wi...</td>\n",
       "      <td>0</td>\n",
       "      <td>20201129224519</td>\n",
       "      <td>{'id': 'd8f57880bbd540e9a1e1bc89e46fdcef', 'bi...</td>\n",
       "      <td>0</td>\n",
       "      <td>0</td>\n",
       "      <td>['sleepyjoe', 'trumpwon2020', 'stopthesteal', ...</td>\n",
       "      <td>461b4cc3118142d2958a58ddeaa9f320</td>\n",
       "      <td>0</td>\n",
       "      <td>[]</td>\n",
       "      <td>So #sleepyjoe twist his ankle while playing wi...</td>\n",
       "      <td>0</td>\n",
       "      <td>https://parler.com/post/461b4cc3118142d2958a58...</td>\n",
       "      <td>False</td>\n",
       "      <td>4.0</td>\n",
       "      <td>0</td>\n",
       "      <td>NaN</td>\n",
       "      <td>NaN</td>\n",
       "      <td>d8f57880bbd540e9a1e1bc89e46fdcef</td>\n",
       "      <td>I am a patriot, and proud supporter of the bes...</td>\n",
       "      <td>False</td>\n",
       "      <td>f74d523f9d8e403f81f4587da9c24c4f</td>\n",
       "      <td>False</td>\n",
       "      <td>False</td>\n",
       "      <td>False</td>\n",
       "      <td>20201001121704</td>\n",
       "      <td>False</td>\n",
       "      <td>Haley S.</td>\n",
       "      <td>False</td>\n",
       "      <td>False</td>\n",
       "      <td>82c3df8812b149ae87354125efdc6ccf</td>\n",
       "      <td>Absolutefusteration</td>\n",
       "      <td>False</td>\n",
       "      <td>False</td>\n",
       "      <td>[]</td>\n",
       "      <td>117</td>\n",
       "      <td>258</td>\n",
       "      <td>1.0</td>\n",
       "      <td>NaN</td>\n",
       "    </tr>\n",
       "    <tr>\n",
       "      <th>1</th>\n",
       "      <td>1</td>\n",
       "      <td>b5c7b951ea1d485db3b490b8f07f56be</td>\n",
       "      <td>{}</td>\n",
       "      <td>0.0</td>\n",
       "      <td>\"God Bless America\" Flash Mob with Denver Bras...</td>\n",
       "      <td>0</td>\n",
       "      <td>20201129224516</td>\n",
       "      <td>{'id': '5ef511800e6e48d8b23e92d37467b718', 'bi...</td>\n",
       "      <td>0</td>\n",
       "      <td>0</td>\n",
       "      <td>['jesusislord', 'trump2020', 'jesusmatters', '...</td>\n",
       "      <td>b5c7b951ea1d485db3b490b8f07f56be</td>\n",
       "      <td>0</td>\n",
       "      <td>[{'_id': 'luzWb', 'createdAt': '20190717100132...</td>\n",
       "      <td>\"God Bless America\" Flash Mob with Denver Bras...</td>\n",
       "      <td>0</td>\n",
       "      <td>https://parler.com/post/b5c7b951ea1d485db3b490...</td>\n",
       "      <td>False</td>\n",
       "      <td>4.0</td>\n",
       "      <td>0</td>\n",
       "      <td>NaN</td>\n",
       "      <td>NaN</td>\n",
       "      <td>5ef511800e6e48d8b23e92d37467b718</td>\n",
       "      <td>Faith✝️Family👨‍👩‍👧‍👦America🦅Trump🇺🇸Freedom💪Pro...</td>\n",
       "      <td>False</td>\n",
       "      <td>12d5f5bf38834ea7b6613ba4081096eb</td>\n",
       "      <td>False</td>\n",
       "      <td>False</td>\n",
       "      <td>False</td>\n",
       "      <td>20200918173929</td>\n",
       "      <td>False</td>\n",
       "      <td>Cascadefalls</td>\n",
       "      <td>False</td>\n",
       "      <td>False</td>\n",
       "      <td>0f077b2a7fa044e8a5f9e8856d04bdd6</td>\n",
       "      <td>Cascadefalls</td>\n",
       "      <td>False</td>\n",
       "      <td>False</td>\n",
       "      <td>[]</td>\n",
       "      <td>3.0k</td>\n",
       "      <td>258</td>\n",
       "      <td>1.0</td>\n",
       "      <td>NaN</td>\n",
       "    </tr>\n",
       "    <tr>\n",
       "      <th>2</th>\n",
       "      <td>2</td>\n",
       "      <td>fe93a766737745188f5fae4a5339b186</td>\n",
       "      <td>{}</td>\n",
       "      <td>0.0</td>\n",
       "      <td>#donaldtrump, #trump, #presidenttrump, #teamtr...</td>\n",
       "      <td>0</td>\n",
       "      <td>20201129224513</td>\n",
       "      <td>{'id': '765cdf14184243259ad5fddb71a854ce', 'bi...</td>\n",
       "      <td>0</td>\n",
       "      <td>0</td>\n",
       "      <td>['donaldtrump', 'trump', 'presidenttrump', 'te...</td>\n",
       "      <td>fe93a766737745188f5fae4a5339b186</td>\n",
       "      <td>0</td>\n",
       "      <td>[{'_id': 'E3NUG', 'createdAt': '20201129224513...</td>\n",
       "      <td>#donaldtrump, #trump, #presidenttrump, #teamtr...</td>\n",
       "      <td>0</td>\n",
       "      <td>https://parler.com/post/fe93a766737745188f5fae...</td>\n",
       "      <td>False</td>\n",
       "      <td>4.0</td>\n",
       "      <td>0</td>\n",
       "      <td>NaN</td>\n",
       "      <td>NaN</td>\n",
       "      <td>765cdf14184243259ad5fddb71a854ce</td>\n",
       "      <td>The vote is our primary right upon which all o...</td>\n",
       "      <td>False</td>\n",
       "      <td>25dc373993c64e75a8001fbc2d316468</td>\n",
       "      <td>False</td>\n",
       "      <td>True</td>\n",
       "      <td>False</td>\n",
       "      <td>20201107210729</td>\n",
       "      <td>False</td>\n",
       "      <td>Jack Jones</td>\n",
       "      <td>False</td>\n",
       "      <td>False</td>\n",
       "      <td>fda1bc735d4844baa88ada3ea62d549d</td>\n",
       "      <td>1965jackjones</td>\n",
       "      <td>False</td>\n",
       "      <td>False</td>\n",
       "      <td>[0]</td>\n",
       "      <td>1.5k</td>\n",
       "      <td>3</td>\n",
       "      <td>1.0</td>\n",
       "      <td>NaN</td>\n",
       "    </tr>\n",
       "    <tr>\n",
       "      <th>3</th>\n",
       "      <td>3</td>\n",
       "      <td>124139704dc64dac9a0ba1c57587e348</td>\n",
       "      <td>{}</td>\n",
       "      <td>0.0</td>\n",
       "      <td>#electionfraud #fraud #stopthesteal</td>\n",
       "      <td>0</td>\n",
       "      <td>20201129224510</td>\n",
       "      <td>{'id': 'a32f450ba92d4a9486b0fb1b94ee397f', 'bi...</td>\n",
       "      <td>1</td>\n",
       "      <td>1</td>\n",
       "      <td>['electionfraud', 'fraud', 'stopthesteal']</td>\n",
       "      <td>124139704dc64dac9a0ba1c57587e348</td>\n",
       "      <td>0</td>\n",
       "      <td>[]</td>\n",
       "      <td>#electionfraud #fraud #stopthesteal</td>\n",
       "      <td>0</td>\n",
       "      <td>https://parler.com/post/124139704dc64dac9a0ba1...</td>\n",
       "      <td>False</td>\n",
       "      <td>4.0</td>\n",
       "      <td>0</td>\n",
       "      <td>{'_id': '47e76823f7304f84a1898d70ac460ba1', '@...</td>\n",
       "      <td>NaN</td>\n",
       "      <td>a32f450ba92d4a9486b0fb1b94ee397f</td>\n",
       "      <td>All races were created equal by God!\\n#trump2020</td>\n",
       "      <td>False</td>\n",
       "      <td>6c0f247a2d0b4fbea0ec51546fe63c94</td>\n",
       "      <td>False</td>\n",
       "      <td>True</td>\n",
       "      <td>False</td>\n",
       "      <td>20201108222023</td>\n",
       "      <td>False</td>\n",
       "      <td>President Elect Poppakap</td>\n",
       "      <td>False</td>\n",
       "      <td>False</td>\n",
       "      <td>2a8c272773f249678cfa2cf758908944</td>\n",
       "      <td>Poppakap</td>\n",
       "      <td>False</td>\n",
       "      <td>False</td>\n",
       "      <td>[0]</td>\n",
       "      <td>2.5k</td>\n",
       "      <td>259</td>\n",
       "      <td>1.0</td>\n",
       "      <td>NaN</td>\n",
       "    </tr>\n",
       "    <tr>\n",
       "      <th>4</th>\n",
       "      <td>4</td>\n",
       "      <td>9733b4c526d845679b211d4fc72234ea</td>\n",
       "      <td>{}</td>\n",
       "      <td>0.0</td>\n",
       "      <td>Judge Awards Sasha and Malia Obama’s Biologica...</td>\n",
       "      <td>0</td>\n",
       "      <td>20201129224453</td>\n",
       "      <td>{'id': '2a5c8defed0648c49c0742a7582ac797', 'bi...</td>\n",
       "      <td>0</td>\n",
       "      <td>0</td>\n",
       "      <td>['blm', 'dnc', 'trumptrain2020', 'freedom', 'f...</td>\n",
       "      <td>9733b4c526d845679b211d4fc72234ea</td>\n",
       "      <td>0</td>\n",
       "      <td>[{'_id': 'DEnvb', 'createdAt': '20201125214939...</td>\n",
       "      <td>Judge Awards Sasha and Malia Obama’s Biologica...</td>\n",
       "      <td>0</td>\n",
       "      <td>https://parler.com/post/9733b4c526d845679b211d...</td>\n",
       "      <td>False</td>\n",
       "      <td>4.0</td>\n",
       "      <td>0</td>\n",
       "      <td>NaN</td>\n",
       "      <td>NaN</td>\n",
       "      <td>2a5c8defed0648c49c0742a7582ac797</td>\n",
       "      <td>Judge Jeanine Pirro Fan Page</td>\n",
       "      <td>False</td>\n",
       "      <td>3d5b9bc72ee0463ba14a7b34c8a1e7db</td>\n",
       "      <td>False</td>\n",
       "      <td>False</td>\n",
       "      <td>False</td>\n",
       "      <td>20201124184003</td>\n",
       "      <td>False</td>\n",
       "      <td>Judge Jeanine Pirro</td>\n",
       "      <td>False</td>\n",
       "      <td>False</td>\n",
       "      <td>d4968d0b26f643daae7d3bd3975687c6</td>\n",
       "      <td>judgejeaninepirrofanpage</td>\n",
       "      <td>False</td>\n",
       "      <td>False</td>\n",
       "      <td>[]</td>\n",
       "      <td>1.8k</td>\n",
       "      <td>258</td>\n",
       "      <td>1.0</td>\n",
       "      <td>NaN</td>\n",
       "    </tr>\n",
       "  </tbody>\n",
       "</table>\n",
       "</div>"
      ],
      "text/plain": [
       "   Unnamed: 0                               _id   @  article  \\\n",
       "0           0  461b4cc3118142d2958a58ddeaa9f320  {}      0.0   \n",
       "1           1  b5c7b951ea1d485db3b490b8f07f56be  {}      0.0   \n",
       "2           2  fe93a766737745188f5fae4a5339b186  {}      0.0   \n",
       "3           3  124139704dc64dac9a0ba1c57587e348  {}      0.0   \n",
       "4           4  9733b4c526d845679b211d4fc72234ea  {}      0.0   \n",
       "\n",
       "                                                body comments       createdAt  \\\n",
       "0  So #sleepyjoe twist his ankle while playing wi...        0  20201129224519   \n",
       "1  \"God Bless America\" Flash Mob with Denver Bras...        0  20201129224516   \n",
       "2  #donaldtrump, #trump, #presidenttrump, #teamtr...        0  20201129224513   \n",
       "3                #electionfraud #fraud #stopthesteal        0  20201129224510   \n",
       "4  Judge Awards Sasha and Malia Obama’s Biologica...        0  20201129224453   \n",
       "\n",
       "                                             creator  depth  depthRaw  \\\n",
       "0  {'id': 'd8f57880bbd540e9a1e1bc89e46fdcef', 'bi...      0         0   \n",
       "1  {'id': '5ef511800e6e48d8b23e92d37467b718', 'bi...      0         0   \n",
       "2  {'id': '765cdf14184243259ad5fddb71a854ce', 'bi...      0         0   \n",
       "3  {'id': 'a32f450ba92d4a9486b0fb1b94ee397f', 'bi...      1         1   \n",
       "4  {'id': '2a5c8defed0648c49c0742a7582ac797', 'bi...      0         0   \n",
       "\n",
       "                                            hashtags  \\\n",
       "0  ['sleepyjoe', 'trumpwon2020', 'stopthesteal', ...   \n",
       "1  ['jesusislord', 'trump2020', 'jesusmatters', '...   \n",
       "2  ['donaldtrump', 'trump', 'presidenttrump', 'te...   \n",
       "3         ['electionfraud', 'fraud', 'stopthesteal']   \n",
       "4  ['blm', 'dnc', 'trumptrain2020', 'freedom', 'f...   \n",
       "\n",
       "                                 id impressions  \\\n",
       "0  461b4cc3118142d2958a58ddeaa9f320           0   \n",
       "1  b5c7b951ea1d485db3b490b8f07f56be           0   \n",
       "2  fe93a766737745188f5fae4a5339b186           0   \n",
       "3  124139704dc64dac9a0ba1c57587e348           0   \n",
       "4  9733b4c526d845679b211d4fc72234ea           0   \n",
       "\n",
       "                                               links  \\\n",
       "0                                                 []   \n",
       "1  [{'_id': 'luzWb', 'createdAt': '20190717100132...   \n",
       "2  [{'_id': 'E3NUG', 'createdAt': '20201129224513...   \n",
       "3                                                 []   \n",
       "4  [{'_id': 'DEnvb', 'createdAt': '20201125214939...   \n",
       "\n",
       "                                             preview reposts  \\\n",
       "0  So #sleepyjoe twist his ankle while playing wi...       0   \n",
       "1  \"God Bless America\" Flash Mob with Denver Bras...       0   \n",
       "2  #donaldtrump, #trump, #presidenttrump, #teamtr...       0   \n",
       "3                #electionfraud #fraud #stopthesteal       0   \n",
       "4  Judge Awards Sasha and Malia Obama’s Biologica...       0   \n",
       "\n",
       "                                           shareLink  sensitive  state  \\\n",
       "0  https://parler.com/post/461b4cc3118142d2958a58...      False    4.0   \n",
       "1  https://parler.com/post/b5c7b951ea1d485db3b490...      False    4.0   \n",
       "2  https://parler.com/post/fe93a766737745188f5fae...      False    4.0   \n",
       "3  https://parler.com/post/124139704dc64dac9a0ba1...      False    4.0   \n",
       "4  https://parler.com/post/9733b4c526d845679b211d...      False    4.0   \n",
       "\n",
       "  upvotes                                             parent root  \\\n",
       "0       0                                                NaN  NaN   \n",
       "1       0                                                NaN  NaN   \n",
       "2       0                                                NaN  NaN   \n",
       "3       0  {'_id': '47e76823f7304f84a1898d70ac460ba1', '@...  NaN   \n",
       "4       0                                                NaN  NaN   \n",
       "\n",
       "                         creator_id  \\\n",
       "0  d8f57880bbd540e9a1e1bc89e46fdcef   \n",
       "1  5ef511800e6e48d8b23e92d37467b718   \n",
       "2  765cdf14184243259ad5fddb71a854ce   \n",
       "3  a32f450ba92d4a9486b0fb1b94ee397f   \n",
       "4  2a5c8defed0648c49c0742a7582ac797   \n",
       "\n",
       "                                         creator_bio  creator_blocked  \\\n",
       "0  I am a patriot, and proud supporter of the bes...            False   \n",
       "1  Faith✝️Family👨‍👩‍👧‍👦America🦅Trump🇺🇸Freedom💪Pro...            False   \n",
       "2  The vote is our primary right upon which all o...            False   \n",
       "3   All races were created equal by God!\\n#trump2020            False   \n",
       "4                       Judge Jeanine Pirro Fan Page            False   \n",
       "\n",
       "                 creator_coverPhoto  creator_followed  creator_human  \\\n",
       "0  f74d523f9d8e403f81f4587da9c24c4f             False          False   \n",
       "1  12d5f5bf38834ea7b6613ba4081096eb             False          False   \n",
       "2  25dc373993c64e75a8001fbc2d316468             False           True   \n",
       "3  6c0f247a2d0b4fbea0ec51546fe63c94             False           True   \n",
       "4  3d5b9bc72ee0463ba14a7b34c8a1e7db             False          False   \n",
       "\n",
       "   creator_integration  creator_joined  creator_muted  \\\n",
       "0                False  20201001121704          False   \n",
       "1                False  20200918173929          False   \n",
       "2                False  20201107210729          False   \n",
       "3                False  20201108222023          False   \n",
       "4                False  20201124184003          False   \n",
       "\n",
       "               creator_name  creator_rss  creator_private  \\\n",
       "0                  Haley S.        False            False   \n",
       "1              Cascadefalls        False            False   \n",
       "2                Jack Jones        False            False   \n",
       "3  President Elect Poppakap        False            False   \n",
       "4       Judge Jeanine Pirro        False            False   \n",
       "\n",
       "               creator_profilePhoto          creator_username  \\\n",
       "0  82c3df8812b149ae87354125efdc6ccf       Absolutefusteration   \n",
       "1  0f077b2a7fa044e8a5f9e8856d04bdd6              Cascadefalls   \n",
       "2  fda1bc735d4844baa88ada3ea62d549d             1965jackjones   \n",
       "3  2a8c272773f249678cfa2cf758908944                  Poppakap   \n",
       "4  d4968d0b26f643daae7d3bd3975687c6  judgejeaninepirrofanpage   \n",
       "\n",
       "   creator_verified  creator_verifiedComments creator_badges creator_score  \\\n",
       "0             False                     False             []           117   \n",
       "1             False                     False             []          3.0k   \n",
       "2             False                     False            [0]          1.5k   \n",
       "3             False                     False            [0]          2.5k   \n",
       "4             False                     False             []          1.8k   \n",
       "\n",
       "   creator_interactions  creator_state creator_subscribed  \n",
       "0                   258            1.0                NaN  \n",
       "1                   258            1.0                NaN  \n",
       "2                     3            1.0                NaN  \n",
       "3                   259            1.0                NaN  \n",
       "4                   258            1.0                NaN  "
      ]
     },
     "execution_count": 179,
     "metadata": {},
     "output_type": "execute_result"
    }
   ],
   "source": [
    "data.head()"
   ]
  },
  {
   "cell_type": "markdown",
   "metadata": {},
   "source": [
    "## Extract tags"
   ]
  },
  {
   "cell_type": "code",
   "execution_count": 91,
   "metadata": {},
   "outputs": [],
   "source": [
    "def make_mentions_df(df):\n",
    "    \n",
    "    list_to_save = []\n",
    "    \n",
    "    for index, row in df.iterrows():\n",
    "        \n",
    "        # only do those who have some tags\n",
    "        if row['@'] != '{}':\n",
    "            \n",
    "            # split the string into separate mentions and extract each\n",
    "            for item in row['@'][1:-1].split(', '):\n",
    "                list_to_save.append([row['_id'], \n",
    "                                     row['creator_id'], \n",
    "                                     row['creator_username'], \n",
    "                                     item[item.find(':') + 3 : -1], # this extracts tagged user id\n",
    "                                     item[1 : item.find('\\':')]]) ## this extracts tagged username\n",
    "            \n",
    "    return pd.DataFrame(list_to_save, columns=['post_id', 'creator_id', 'creator_username', 'tagged_user_id', 'tagged_username'])"
   ]
  },
  {
   "cell_type": "code",
   "execution_count": 96,
   "metadata": {},
   "outputs": [],
   "source": [
    "mentions_data = make_mentions_df(data)"
   ]
  },
  {
   "cell_type": "code",
   "execution_count": 97,
   "metadata": {},
   "outputs": [
    {
     "data": {
      "text/html": [
       "<div>\n",
       "<style scoped>\n",
       "    .dataframe tbody tr th:only-of-type {\n",
       "        vertical-align: middle;\n",
       "    }\n",
       "\n",
       "    .dataframe tbody tr th {\n",
       "        vertical-align: top;\n",
       "    }\n",
       "\n",
       "    .dataframe thead th {\n",
       "        text-align: right;\n",
       "    }\n",
       "</style>\n",
       "<table border=\"1\" class=\"dataframe\">\n",
       "  <thead>\n",
       "    <tr style=\"text-align: right;\">\n",
       "      <th></th>\n",
       "      <th>post_id</th>\n",
       "      <th>creator_id</th>\n",
       "      <th>creator_username</th>\n",
       "      <th>tagged_user_id</th>\n",
       "      <th>tagged_username</th>\n",
       "    </tr>\n",
       "  </thead>\n",
       "  <tbody>\n",
       "    <tr>\n",
       "      <th>0</th>\n",
       "      <td>7dc7522299a046e0b67bc45e0112efe0</td>\n",
       "      <td>11099c81c1ca42f88a977b8d4e5e2336</td>\n",
       "      <td>AlexJonesWins</td>\n",
       "      <td>f1c6851c95c98c2d2af35eec0c9cc635</td>\n",
       "      <td>ali</td>\n",
       "    </tr>\n",
       "    <tr>\n",
       "      <th>1</th>\n",
       "      <td>7dc7522299a046e0b67bc45e0112efe0</td>\n",
       "      <td>11099c81c1ca42f88a977b8d4e5e2336</td>\n",
       "      <td>AlexJonesWins</td>\n",
       "      <td>dcdd1dc516c64d7880a54edb37bdb8ef</td>\n",
       "      <td>alexjones</td>\n",
       "    </tr>\n",
       "    <tr>\n",
       "      <th>2</th>\n",
       "      <td>07ac00ecbc7f4c47bda5ca417c03ed7b</td>\n",
       "      <td>aedaffa4fff44d7bb44d3784817a6af5</td>\n",
       "      <td>Sparry131</td>\n",
       "      <td>89e43877e52645a1bf8239d8a4fa2ac2</td>\n",
       "      <td>genflynn</td>\n",
       "    </tr>\n",
       "    <tr>\n",
       "      <th>3</th>\n",
       "      <td>07ac00ecbc7f4c47bda5ca417c03ed7b</td>\n",
       "      <td>aedaffa4fff44d7bb44d3784817a6af5</td>\n",
       "      <td>Sparry131</td>\n",
       "      <td>fd4eaf2436164605b291ba98e7061d7b</td>\n",
       "      <td>sidneypowell</td>\n",
       "    </tr>\n",
       "    <tr>\n",
       "      <th>4</th>\n",
       "      <td>07ac00ecbc7f4c47bda5ca417c03ed7b</td>\n",
       "      <td>aedaffa4fff44d7bb44d3784817a6af5</td>\n",
       "      <td>Sparry131</td>\n",
       "      <td>2ea66900ed69a5005fe51fc8b07a1711</td>\n",
       "      <td>linwood</td>\n",
       "    </tr>\n",
       "  </tbody>\n",
       "</table>\n",
       "</div>"
      ],
      "text/plain": [
       "                            post_id                        creator_id  \\\n",
       "0  7dc7522299a046e0b67bc45e0112efe0  11099c81c1ca42f88a977b8d4e5e2336   \n",
       "1  7dc7522299a046e0b67bc45e0112efe0  11099c81c1ca42f88a977b8d4e5e2336   \n",
       "2  07ac00ecbc7f4c47bda5ca417c03ed7b  aedaffa4fff44d7bb44d3784817a6af5   \n",
       "3  07ac00ecbc7f4c47bda5ca417c03ed7b  aedaffa4fff44d7bb44d3784817a6af5   \n",
       "4  07ac00ecbc7f4c47bda5ca417c03ed7b  aedaffa4fff44d7bb44d3784817a6af5   \n",
       "\n",
       "  creator_username                    tagged_user_id tagged_username  \n",
       "0    AlexJonesWins  f1c6851c95c98c2d2af35eec0c9cc635             ali  \n",
       "1    AlexJonesWins  dcdd1dc516c64d7880a54edb37bdb8ef       alexjones  \n",
       "2        Sparry131  89e43877e52645a1bf8239d8a4fa2ac2        genflynn  \n",
       "3        Sparry131  fd4eaf2436164605b291ba98e7061d7b    sidneypowell  \n",
       "4        Sparry131  2ea66900ed69a5005fe51fc8b07a1711         linwood  "
      ]
     },
     "execution_count": 97,
     "metadata": {},
     "output_type": "execute_result"
    }
   ],
   "source": [
    "mentions_data.head()"
   ]
  },
  {
   "cell_type": "code",
   "execution_count": 98,
   "metadata": {},
   "outputs": [
    {
     "data": {
      "text/plain": [
       "(110716, 5)"
      ]
     },
     "execution_count": 98,
     "metadata": {},
     "output_type": "execute_result"
    }
   ],
   "source": [
    "mentions_data.shape"
   ]
  },
  {
   "cell_type": "code",
   "execution_count": 99,
   "metadata": {},
   "outputs": [],
   "source": [
    "mentions_data.to_csv('data/mentions_data.csv', index =  False)"
   ]
  },
  {
   "cell_type": "markdown",
   "metadata": {},
   "source": [
    "### Clean up hashtag list, figure out how many hashtags were used"
   ]
  },
  {
   "cell_type": "code",
   "execution_count": 181,
   "metadata": {},
   "outputs": [],
   "source": [
    "def parse_hashtags(s):\n",
    "    \n",
    "    hashtag_list = s['hashtags'][2:-2].split('\\', \\'')\n",
    "        \n",
    "    s['nr_hashtags'] = len(hashtag_list)\n",
    "    s['hashtags_used'] = ', '.join(hashtag_list)\n",
    "    \n",
    "    return s"
   ]
  },
  {
   "cell_type": "code",
   "execution_count": 182,
   "metadata": {},
   "outputs": [],
   "source": [
    "data['hashtags_used'] = ''\n",
    "data['nr_hashtags'] = 0\n",
    "\n",
    "data = data.apply(parse_hashtags, axis=1)"
   ]
  },
  {
   "cell_type": "markdown",
   "metadata": {},
   "source": [
    "### Get rid of pointless columns and rename columns so that they make more sense"
   ]
  },
  {
   "cell_type": "code",
   "execution_count": 185,
   "metadata": {},
   "outputs": [],
   "source": [
    "# delete unnecessary columns\n",
    "del data['Unnamed: 0'] # consequence of exporting importing\n",
    "del data['_id'] # same as id\n",
    "del data['creator'] # already extracted\n",
    "del data['depthRaw'] # same as depth\n",
    "del data['@'] # already extracted\n",
    "del data['hashtags'] # already extracted\n",
    "del data['preview'] # subset of whats in body\n",
    "del data['state'] # always 4 for all the rows\n",
    "del data['creator_blocked'] # individual to account used to scrape\n",
    "del data['creator_followed'] # individual to account used to scrape\n",
    "del data['creator_muted'] # individual to account used to scrape\n",
    "del data['creator_subscribed'] # individual to account used to scrape\n",
    "del data['creator_private'] # not as we could see"
   ]
  },
  {
   "cell_type": "code",
   "execution_count": 187,
   "metadata": {},
   "outputs": [],
   "source": [
    "# rename columns\n",
    "data.columns = ['article', 'body', 'comments', 'post_date', 'depth', 'post_id',\n",
    "       'impressions', 'links', 'reposts', 'shareLink', 'sensitive', 'upvotes',\n",
    "       'parent', 'root', 'creator_id', 'creator_bio', 'creator_coverPhoto',\n",
    "       'creator_human', 'creator_integration', 'creator_joined',\n",
    "       'creator_name', 'creator_rss', 'creator_profilePhoto',\n",
    "       'creator_username', 'creator_verified', 'creator_verifiedComments',\n",
    "       'creator_badges', 'creator_score', 'creator_interactions',\n",
    "       'creator_state', 'hashtags', 'nr_hashtags']"
   ]
  },
  {
   "cell_type": "markdown",
   "metadata": {},
   "source": [
    "### Calculate the number of mentions (tagging other users) each post has"
   ]
  },
  {
   "cell_type": "code",
   "execution_count": 212,
   "metadata": {},
   "outputs": [],
   "source": [
    "mentions_per_post = mentions_data.groupby(['post_id']).size().reset_index(name=\"nr_mentions\")\n",
    "data = data.merge(mentions_per_post, left_on='post_id', right_on='post_id', how='left')\n",
    "data.nr_mentions.fillna(0, inplace=True)"
   ]
  },
  {
   "cell_type": "markdown",
   "metadata": {},
   "source": [
    "### Fix data types"
   ]
  },
  {
   "cell_type": "code",
   "execution_count": 236,
   "metadata": {},
   "outputs": [],
   "source": [
    "data.article = data.article.astype('Int64')\n",
    "data.depth = data.depth.astype('Int64')\n",
    "data.creator_interactions = data.creator_interactions.astype('Int64')\n",
    "data.creator_state = data.creator_state.astype('Int64')\n",
    "data.nr_mentions = data.nr_mentions.astype('Int64')"
   ]
  },
  {
   "cell_type": "code",
   "execution_count": 239,
   "metadata": {},
   "outputs": [],
   "source": [
    "data['creator_joined'] =  pd.to_datetime(data['creator_joined'], format='%Y%m%d%H%M%S')\n",
    "data['createdAt'] =  pd.to_datetime(data['createdAt'], format='%Y%m%d%H%M%S')"
   ]
  },
  {
   "cell_type": "markdown",
   "metadata": {},
   "source": [
    "### deal with parler using text to describe numbers - e.g. convert 2.6k to 2600"
   ]
  },
  {
   "cell_type": "code",
   "execution_count": 388,
   "metadata": {},
   "outputs": [],
   "source": [
    "def str_to_num(str_in):\n",
    "    try:\n",
    "        # simple intiger\n",
    "        string_int = int(str_in)\n",
    "        return int(str_in)\n",
    "    except ValueError:\n",
    "        # thousands\n",
    "        if 'k' in str_in:\n",
    "            return math.ceil(float(str_in[:-1])*1000)\n",
    "        # millions\n",
    "        elif 'm' in str_in:\n",
    "            return math.ceil(float(str_in[:-1])*1000000)\n",
    "        else:\n",
    "            return np.NaN\n",
    "    \n",
    "def cleanup_numbers(s):\n",
    "    s['comments_clean'] = str_to_num(s['comments'])\n",
    "    s['impressions_clean'] = str_to_num(s['impressions'])\n",
    "    s['reposts_clean'] = str_to_num(s['reposts'])\n",
    "    s['upvotes_clean'] = str_to_num(s['upvotes'])\n",
    "    s['creator_score_clean'] = str_to_num(s['creator_score'])\n",
    "    return s"
   ]
  },
  {
   "cell_type": "code",
   "execution_count": 369,
   "metadata": {},
   "outputs": [],
   "source": [
    "# Run the function to convert tricky strings to numbers\n",
    "data = data.apply(cleanup_numbers, axis=1)"
   ]
  },
  {
   "cell_type": "code",
   "execution_count": 370,
   "metadata": {},
   "outputs": [],
   "source": [
    "# convert new columns to ints\n",
    "data.comments_clean = data.comments_clean.astype('Int64')\n",
    "data.reposts_clean = data.reposts_clean.astype('Int64')\n",
    "data.upvotes_clean = data.upvotes_clean.astype('Int64')\n",
    "data.creator_score_clean = data.creator_score_clean.astype('Int64')\n",
    "data.impressions_clean = data.impressions_clean.astype('Int64')"
   ]
  },
  {
   "cell_type": "code",
   "execution_count": 385,
   "metadata": {},
   "outputs": [],
   "source": [
    "# delete unnecessary columns\n",
    "del data['comments']\n",
    "del data['reposts']\n",
    "del data['upvotes']\n",
    "del data['creator_score']\n",
    "del data['impressions']"
   ]
  },
  {
   "cell_type": "code",
   "execution_count": 387,
   "metadata": {},
   "outputs": [],
   "source": [
    "# rename columns\n",
    "data.columns = ['article', 'body', 'post_date', 'depth', 'post_id', 'links',\n",
    "       'shareLink', 'sensitive', 'parent', 'root', 'creator_id', 'creator_bio',\n",
    "       'creator_coverPhoto', 'creator_human', 'creator_integration',\n",
    "       'creator_joined', 'creator_name', 'creator_rss', 'creator_profilePhoto',\n",
    "       'creator_username', 'creator_verified', 'creator_verifiedComments',\n",
    "       'creator_badges', 'creator_interactions', 'creator_state', 'hashtags',\n",
    "       'nr_hashtags', 'nr_mentions', 'comments', 'impressions',\n",
    "       'reposts', 'upvotes', 'creator_score']"
   ]
  },
  {
   "cell_type": "markdown",
   "metadata": {},
   "source": [
    "### reorder columns so that it makes more sense"
   ]
  },
  {
   "cell_type": "code",
   "execution_count": 401,
   "metadata": {},
   "outputs": [],
   "source": [
    "data = data[['post_id', 'body', 'post_date', 'article', 'depth', 'links',\n",
    "       'shareLink', 'sensitive', 'parent', 'root', 'creator_id', 'creator_bio',\n",
    "       'creator_coverPhoto', 'creator_human', 'creator_integration',\n",
    "       'creator_joined', 'creator_name', 'creator_rss', 'creator_profilePhoto',\n",
    "       'creator_username', 'creator_verified', 'creator_verifiedComments',\n",
    "       'creator_badges', 'creator_interactions', 'creator_state', 'creator_score', \n",
    "       'hashtags', 'nr_hashtags', 'nr_mentions', 'comments', 'impressions',\n",
    "       'reposts', 'upvotes']]"
   ]
  },
  {
   "cell_type": "markdown",
   "metadata": {},
   "source": [
    "### create features for badges"
   ]
  },
  {
   "cell_type": "code",
   "execution_count": 425,
   "metadata": {},
   "outputs": [],
   "source": [
    "data['creator_badge_0'] = np.where(data['creator_badges'].str.contains('0'), True, False)\n",
    "data['creator_badge_1'] = np.where(data['creator_badges'].str.contains('1'), True, False)\n",
    "data['creator_badge_2'] = np.where(data['creator_badges'].str.contains('2'), True, False)\n",
    "data['creator_badge_3'] = np.where(data['creator_badges'].str.contains('3'), True, False)\n",
    "data['creator_badge_4'] = np.where(data['creator_badges'].str.contains('4'), True, False)\n",
    "data['creator_badge_5'] = np.where(data['creator_badges'].str.contains('5'), True, False)\n",
    "data['creator_badge_6'] = np.where(data['creator_badges'].str.contains('6'), True, False)\n",
    "data['creator_badge_7'] = np.where(data['creator_badges'].str.contains('7'), True, False)\n",
    "data['creator_badge_9'] = np.where(data['creator_badges'].str.contains('9'), True, False)"
   ]
  },
  {
   "cell_type": "code",
   "execution_count": 431,
   "metadata": {},
   "outputs": [],
   "source": [
    "del data['creator_badges']"
   ]
  },
  {
   "cell_type": "code",
   "execution_count": 433,
   "metadata": {},
   "outputs": [
    {
     "data": {
      "text/plain": [
       "(321393, 41)"
      ]
     },
     "execution_count": 433,
     "metadata": {},
     "output_type": "execute_result"
    }
   ],
   "source": [
    "data.shape"
   ]
  },
  {
   "cell_type": "markdown",
   "metadata": {},
   "source": [
    "### Extract links"
   ]
  },
  {
   "cell_type": "code",
   "execution_count": 542,
   "metadata": {},
   "outputs": [],
   "source": [
    "def make_link_df(s):\n",
    "    \n",
    "    list_to_save = []\n",
    "    \n",
    "    for index, row in s.iterrows():\n",
    "        \n",
    "        list_of_lists_links = row['links'][1:-1].split('}, {')\n",
    "\n",
    "        for link_list in list_of_lists_links:\n",
    "            \n",
    "            s_link_id = s_createdAt = s_domain = s_full_link = s_type = s_locale = s_site_name = s_state = ''\n",
    "            \n",
    "            for item in ''.join( c for c in link_list if  c not in '\\{\\}').split(', '):\n",
    "\n",
    "                if '\\'_id\\'' in item[:item.find(':')]:\n",
    "                    s_link_id = item[item.find('\\'_id\\': \\'')+len('\\'_id\\': \\'') : -1]\n",
    "\n",
    "                if '\\'createdAt\\'' in item[:item.find(':')]:\n",
    "                    s_createdAt = item[item.find('\\'createdAt\\': \\'')+len('\\'createdAt\\': \\'') : -1]\n",
    "\n",
    "                if '\\'domain\\'' in item[:item.find(':')]:\n",
    "                    s_domain = item[item.find('\\'domain\\': \\'')+len('\\'domain\\': \\'') : -1]\n",
    "\n",
    "                if '\\'long\\'' in item[:item.find(':')]:\n",
    "                    s_full_link = item[item.find('\\'long\\': \\'')+len('\\'long\\': \\'') : -1]\n",
    "\n",
    "                if '\\'type\\'' in item[:item.find(':')]:\n",
    "                    s_type = item[item.find('\\'type\\': \\'')+len('\\'type\\': \\'') : -1]\n",
    "\n",
    "                if '\\'locale\\'' in item[:item.find(':')]:\n",
    "                    s_locale = item[item.find('\\'locale\\': \\'')+len('\\'locale\\': \\'') : -1]\n",
    "\n",
    "                if '\\'site_name\\'' in item[:item.find(':')]:\n",
    "                    s_site_name = item[item.find('\\'site_name\\': \\'')+len('\\'site_name\\': \\'') : -1]\n",
    "\n",
    "                if '\\'state\\'' in item[:item.find(':')]:\n",
    "                    s_state = item[item.find('\\'state\\': \\'')+len('\\'state\\': \\'') : -1]\n",
    "                \n",
    "            list_to_save.append([row['post_id'], row['post_date'], row['creator_id'], \n",
    "                                 s_link_id, s_createdAt, s_domain, s_full_link, s_type, \n",
    "                                 s_locale, s_site_name, s_state])\n",
    "            \n",
    "\n",
    "    return pd.DataFrame(list_to_save, columns=['post_id', 'post_date', 'creator_id', \n",
    "                                               'link_id', 'createdAt', 'domain', 'full_link', \n",
    "                                               'type','locale', 'site_name', 'state'])"
   ]
  },
  {
   "cell_type": "code",
   "execution_count": 544,
   "metadata": {},
   "outputs": [],
   "source": [
    "# only get stuff with links\n",
    "link_data = make_link_df(data[data.links != '[]'])"
   ]
  },
  {
   "cell_type": "code",
   "execution_count": 547,
   "metadata": {},
   "outputs": [],
   "source": [
    "link_data['createdAt'] =  pd.to_datetime(link_data['createdAt'], format='%Y%m%d%H%M%S')"
   ]
  },
  {
   "cell_type": "code",
   "execution_count": 549,
   "metadata": {},
   "outputs": [
    {
     "data": {
      "text/plain": [
       "(199011, 11)"
      ]
     },
     "execution_count": 549,
     "metadata": {},
     "output_type": "execute_result"
    }
   ],
   "source": [
    "link_data.shape"
   ]
  },
  {
   "cell_type": "code",
   "execution_count": 550,
   "metadata": {},
   "outputs": [],
   "source": [
    "link_data.to_csv('data/link_data.csv', index=False)"
   ]
  },
  {
   "cell_type": "markdown",
   "metadata": {},
   "source": [
    "### add number of links per video to the main datatable"
   ]
  },
  {
   "cell_type": "code",
   "execution_count": 551,
   "metadata": {},
   "outputs": [],
   "source": [
    "links_per_post = link_data.groupby(['post_id']).size().reset_index(name=\"nr_links\")"
   ]
  },
  {
   "cell_type": "code",
   "execution_count": 554,
   "metadata": {},
   "outputs": [],
   "source": [
    "data = data.merge(links_per_post, left_on='post_id', right_on='post_id', how='left')\n",
    "data.nr_links.fillna(0, inplace=True)"
   ]
  },
  {
   "cell_type": "code",
   "execution_count": 556,
   "metadata": {},
   "outputs": [],
   "source": [
    "data.nr_links = data.nr_links.astype('Int64')"
   ]
  },
  {
   "cell_type": "code",
   "execution_count": 557,
   "metadata": {},
   "outputs": [
    {
     "data": {
      "text/html": [
       "<div>\n",
       "<style scoped>\n",
       "    .dataframe tbody tr th:only-of-type {\n",
       "        vertical-align: middle;\n",
       "    }\n",
       "\n",
       "    .dataframe tbody tr th {\n",
       "        vertical-align: top;\n",
       "    }\n",
       "\n",
       "    .dataframe thead th {\n",
       "        text-align: right;\n",
       "    }\n",
       "</style>\n",
       "<table border=\"1\" class=\"dataframe\">\n",
       "  <thead>\n",
       "    <tr style=\"text-align: right;\">\n",
       "      <th></th>\n",
       "      <th>post_id</th>\n",
       "      <th>body</th>\n",
       "      <th>post_date</th>\n",
       "      <th>article</th>\n",
       "      <th>depth</th>\n",
       "      <th>links</th>\n",
       "      <th>shareLink</th>\n",
       "      <th>sensitive</th>\n",
       "      <th>parent</th>\n",
       "      <th>root</th>\n",
       "      <th>creator_id</th>\n",
       "      <th>creator_bio</th>\n",
       "      <th>creator_coverPhoto</th>\n",
       "      <th>creator_human</th>\n",
       "      <th>creator_integration</th>\n",
       "      <th>creator_joined</th>\n",
       "      <th>creator_name</th>\n",
       "      <th>creator_rss</th>\n",
       "      <th>creator_profilePhoto</th>\n",
       "      <th>creator_username</th>\n",
       "      <th>creator_verified</th>\n",
       "      <th>creator_verifiedComments</th>\n",
       "      <th>creator_interactions</th>\n",
       "      <th>creator_state</th>\n",
       "      <th>creator_score</th>\n",
       "      <th>hashtags</th>\n",
       "      <th>nr_hashtags</th>\n",
       "      <th>nr_mentions</th>\n",
       "      <th>comments</th>\n",
       "      <th>impressions</th>\n",
       "      <th>reposts</th>\n",
       "      <th>upvotes</th>\n",
       "      <th>creator_badge_0</th>\n",
       "      <th>creator_badge_1</th>\n",
       "      <th>creator_badge_2</th>\n",
       "      <th>creator_badge_3</th>\n",
       "      <th>creator_badge_4</th>\n",
       "      <th>creator_badge_5</th>\n",
       "      <th>creator_badge_6</th>\n",
       "      <th>creator_badge_7</th>\n",
       "      <th>creator_badge_9</th>\n",
       "      <th>nr_links</th>\n",
       "    </tr>\n",
       "  </thead>\n",
       "  <tbody>\n",
       "    <tr>\n",
       "      <th>0</th>\n",
       "      <td>461b4cc3118142d2958a58ddeaa9f320</td>\n",
       "      <td>So #sleepyjoe twist his ankle while playing wi...</td>\n",
       "      <td>2020-11-29 22:45:19</td>\n",
       "      <td>0</td>\n",
       "      <td>0</td>\n",
       "      <td>[]</td>\n",
       "      <td>https://parler.com/post/461b4cc3118142d2958a58...</td>\n",
       "      <td>False</td>\n",
       "      <td>NaN</td>\n",
       "      <td>NaN</td>\n",
       "      <td>d8f57880bbd540e9a1e1bc89e46fdcef</td>\n",
       "      <td>I am a patriot, and proud supporter of the bes...</td>\n",
       "      <td>f74d523f9d8e403f81f4587da9c24c4f</td>\n",
       "      <td>False</td>\n",
       "      <td>False</td>\n",
       "      <td>2020-10-01 12:17:04</td>\n",
       "      <td>Haley S.</td>\n",
       "      <td>False</td>\n",
       "      <td>82c3df8812b149ae87354125efdc6ccf</td>\n",
       "      <td>Absolutefusteration</td>\n",
       "      <td>False</td>\n",
       "      <td>False</td>\n",
       "      <td>258</td>\n",
       "      <td>1</td>\n",
       "      <td>117</td>\n",
       "      <td>sleepyjoe, trumpwon2020, stopthesteal, magaagain</td>\n",
       "      <td>4</td>\n",
       "      <td>0</td>\n",
       "      <td>0</td>\n",
       "      <td>0</td>\n",
       "      <td>0</td>\n",
       "      <td>0</td>\n",
       "      <td>False</td>\n",
       "      <td>False</td>\n",
       "      <td>False</td>\n",
       "      <td>False</td>\n",
       "      <td>False</td>\n",
       "      <td>False</td>\n",
       "      <td>False</td>\n",
       "      <td>False</td>\n",
       "      <td>False</td>\n",
       "      <td>0</td>\n",
       "    </tr>\n",
       "    <tr>\n",
       "      <th>1</th>\n",
       "      <td>b5c7b951ea1d485db3b490b8f07f56be</td>\n",
       "      <td>\"God Bless America\" Flash Mob with Denver Bras...</td>\n",
       "      <td>2020-11-29 22:45:16</td>\n",
       "      <td>0</td>\n",
       "      <td>0</td>\n",
       "      <td>[{'_id': 'luzWb', 'createdAt': '20190717100132...</td>\n",
       "      <td>https://parler.com/post/b5c7b951ea1d485db3b490...</td>\n",
       "      <td>False</td>\n",
       "      <td>NaN</td>\n",
       "      <td>NaN</td>\n",
       "      <td>5ef511800e6e48d8b23e92d37467b718</td>\n",
       "      <td>Faith✝️Family👨‍👩‍👧‍👦America🦅Trump🇺🇸Freedom💪Pro...</td>\n",
       "      <td>12d5f5bf38834ea7b6613ba4081096eb</td>\n",
       "      <td>False</td>\n",
       "      <td>False</td>\n",
       "      <td>2020-09-18 17:39:29</td>\n",
       "      <td>Cascadefalls</td>\n",
       "      <td>False</td>\n",
       "      <td>0f077b2a7fa044e8a5f9e8856d04bdd6</td>\n",
       "      <td>Cascadefalls</td>\n",
       "      <td>False</td>\n",
       "      <td>False</td>\n",
       "      <td>258</td>\n",
       "      <td>1</td>\n",
       "      <td>3000</td>\n",
       "      <td>jesusislord, trump2020, jesusmatters, bluelive...</td>\n",
       "      <td>58</td>\n",
       "      <td>0</td>\n",
       "      <td>0</td>\n",
       "      <td>0</td>\n",
       "      <td>0</td>\n",
       "      <td>0</td>\n",
       "      <td>False</td>\n",
       "      <td>False</td>\n",
       "      <td>False</td>\n",
       "      <td>False</td>\n",
       "      <td>False</td>\n",
       "      <td>False</td>\n",
       "      <td>False</td>\n",
       "      <td>False</td>\n",
       "      <td>False</td>\n",
       "      <td>1</td>\n",
       "    </tr>\n",
       "    <tr>\n",
       "      <th>2</th>\n",
       "      <td>fe93a766737745188f5fae4a5339b186</td>\n",
       "      <td>#donaldtrump, #trump, #presidenttrump, #teamtr...</td>\n",
       "      <td>2020-11-29 22:45:13</td>\n",
       "      <td>0</td>\n",
       "      <td>0</td>\n",
       "      <td>[{'_id': 'E3NUG', 'createdAt': '20201129224513...</td>\n",
       "      <td>https://parler.com/post/fe93a766737745188f5fae...</td>\n",
       "      <td>False</td>\n",
       "      <td>NaN</td>\n",
       "      <td>NaN</td>\n",
       "      <td>765cdf14184243259ad5fddb71a854ce</td>\n",
       "      <td>The vote is our primary right upon which all o...</td>\n",
       "      <td>25dc373993c64e75a8001fbc2d316468</td>\n",
       "      <td>True</td>\n",
       "      <td>False</td>\n",
       "      <td>2020-11-07 21:07:29</td>\n",
       "      <td>Jack Jones</td>\n",
       "      <td>False</td>\n",
       "      <td>fda1bc735d4844baa88ada3ea62d549d</td>\n",
       "      <td>1965jackjones</td>\n",
       "      <td>False</td>\n",
       "      <td>False</td>\n",
       "      <td>3</td>\n",
       "      <td>1</td>\n",
       "      <td>1500</td>\n",
       "      <td>donaldtrump, trump, presidenttrump, teamtrump,...</td>\n",
       "      <td>16</td>\n",
       "      <td>0</td>\n",
       "      <td>0</td>\n",
       "      <td>0</td>\n",
       "      <td>0</td>\n",
       "      <td>0</td>\n",
       "      <td>True</td>\n",
       "      <td>False</td>\n",
       "      <td>False</td>\n",
       "      <td>False</td>\n",
       "      <td>False</td>\n",
       "      <td>False</td>\n",
       "      <td>False</td>\n",
       "      <td>False</td>\n",
       "      <td>False</td>\n",
       "      <td>1</td>\n",
       "    </tr>\n",
       "    <tr>\n",
       "      <th>3</th>\n",
       "      <td>124139704dc64dac9a0ba1c57587e348</td>\n",
       "      <td>#electionfraud #fraud #stopthesteal</td>\n",
       "      <td>2020-11-29 22:45:10</td>\n",
       "      <td>0</td>\n",
       "      <td>1</td>\n",
       "      <td>[]</td>\n",
       "      <td>https://parler.com/post/124139704dc64dac9a0ba1...</td>\n",
       "      <td>False</td>\n",
       "      <td>{'_id': '47e76823f7304f84a1898d70ac460ba1', '@...</td>\n",
       "      <td>NaN</td>\n",
       "      <td>a32f450ba92d4a9486b0fb1b94ee397f</td>\n",
       "      <td>All races were created equal by God!\\n#trump2020</td>\n",
       "      <td>6c0f247a2d0b4fbea0ec51546fe63c94</td>\n",
       "      <td>True</td>\n",
       "      <td>False</td>\n",
       "      <td>2020-11-08 22:20:23</td>\n",
       "      <td>President Elect Poppakap</td>\n",
       "      <td>False</td>\n",
       "      <td>2a8c272773f249678cfa2cf758908944</td>\n",
       "      <td>Poppakap</td>\n",
       "      <td>False</td>\n",
       "      <td>False</td>\n",
       "      <td>259</td>\n",
       "      <td>1</td>\n",
       "      <td>2500</td>\n",
       "      <td>electionfraud, fraud, stopthesteal</td>\n",
       "      <td>3</td>\n",
       "      <td>0</td>\n",
       "      <td>0</td>\n",
       "      <td>0</td>\n",
       "      <td>0</td>\n",
       "      <td>0</td>\n",
       "      <td>True</td>\n",
       "      <td>False</td>\n",
       "      <td>False</td>\n",
       "      <td>False</td>\n",
       "      <td>False</td>\n",
       "      <td>False</td>\n",
       "      <td>False</td>\n",
       "      <td>False</td>\n",
       "      <td>False</td>\n",
       "      <td>0</td>\n",
       "    </tr>\n",
       "    <tr>\n",
       "      <th>4</th>\n",
       "      <td>9733b4c526d845679b211d4fc72234ea</td>\n",
       "      <td>Judge Awards Sasha and Malia Obama’s Biologica...</td>\n",
       "      <td>2020-11-29 22:44:53</td>\n",
       "      <td>0</td>\n",
       "      <td>0</td>\n",
       "      <td>[{'_id': 'DEnvb', 'createdAt': '20201125214939...</td>\n",
       "      <td>https://parler.com/post/9733b4c526d845679b211d...</td>\n",
       "      <td>False</td>\n",
       "      <td>NaN</td>\n",
       "      <td>NaN</td>\n",
       "      <td>2a5c8defed0648c49c0742a7582ac797</td>\n",
       "      <td>Judge Jeanine Pirro Fan Page</td>\n",
       "      <td>3d5b9bc72ee0463ba14a7b34c8a1e7db</td>\n",
       "      <td>False</td>\n",
       "      <td>False</td>\n",
       "      <td>2020-11-24 18:40:03</td>\n",
       "      <td>Judge Jeanine Pirro</td>\n",
       "      <td>False</td>\n",
       "      <td>d4968d0b26f643daae7d3bd3975687c6</td>\n",
       "      <td>judgejeaninepirrofanpage</td>\n",
       "      <td>False</td>\n",
       "      <td>False</td>\n",
       "      <td>258</td>\n",
       "      <td>1</td>\n",
       "      <td>1800</td>\n",
       "      <td>blm, dnc, trumptrain2020, freedom, facebook, l...</td>\n",
       "      <td>64</td>\n",
       "      <td>0</td>\n",
       "      <td>0</td>\n",
       "      <td>0</td>\n",
       "      <td>0</td>\n",
       "      <td>0</td>\n",
       "      <td>False</td>\n",
       "      <td>False</td>\n",
       "      <td>False</td>\n",
       "      <td>False</td>\n",
       "      <td>False</td>\n",
       "      <td>False</td>\n",
       "      <td>False</td>\n",
       "      <td>False</td>\n",
       "      <td>False</td>\n",
       "      <td>1</td>\n",
       "    </tr>\n",
       "  </tbody>\n",
       "</table>\n",
       "</div>"
      ],
      "text/plain": [
       "                            post_id  \\\n",
       "0  461b4cc3118142d2958a58ddeaa9f320   \n",
       "1  b5c7b951ea1d485db3b490b8f07f56be   \n",
       "2  fe93a766737745188f5fae4a5339b186   \n",
       "3  124139704dc64dac9a0ba1c57587e348   \n",
       "4  9733b4c526d845679b211d4fc72234ea   \n",
       "\n",
       "                                                body            post_date  \\\n",
       "0  So #sleepyjoe twist his ankle while playing wi...  2020-11-29 22:45:19   \n",
       "1  \"God Bless America\" Flash Mob with Denver Bras...  2020-11-29 22:45:16   \n",
       "2  #donaldtrump, #trump, #presidenttrump, #teamtr...  2020-11-29 22:45:13   \n",
       "3                #electionfraud #fraud #stopthesteal  2020-11-29 22:45:10   \n",
       "4  Judge Awards Sasha and Malia Obama’s Biologica...  2020-11-29 22:44:53   \n",
       "\n",
       "  article  depth                                              links  \\\n",
       "0       0      0                                                 []   \n",
       "1       0      0  [{'_id': 'luzWb', 'createdAt': '20190717100132...   \n",
       "2       0      0  [{'_id': 'E3NUG', 'createdAt': '20201129224513...   \n",
       "3       0      1                                                 []   \n",
       "4       0      0  [{'_id': 'DEnvb', 'createdAt': '20201125214939...   \n",
       "\n",
       "                                           shareLink  sensitive  \\\n",
       "0  https://parler.com/post/461b4cc3118142d2958a58...      False   \n",
       "1  https://parler.com/post/b5c7b951ea1d485db3b490...      False   \n",
       "2  https://parler.com/post/fe93a766737745188f5fae...      False   \n",
       "3  https://parler.com/post/124139704dc64dac9a0ba1...      False   \n",
       "4  https://parler.com/post/9733b4c526d845679b211d...      False   \n",
       "\n",
       "                                              parent root  \\\n",
       "0                                                NaN  NaN   \n",
       "1                                                NaN  NaN   \n",
       "2                                                NaN  NaN   \n",
       "3  {'_id': '47e76823f7304f84a1898d70ac460ba1', '@...  NaN   \n",
       "4                                                NaN  NaN   \n",
       "\n",
       "                         creator_id  \\\n",
       "0  d8f57880bbd540e9a1e1bc89e46fdcef   \n",
       "1  5ef511800e6e48d8b23e92d37467b718   \n",
       "2  765cdf14184243259ad5fddb71a854ce   \n",
       "3  a32f450ba92d4a9486b0fb1b94ee397f   \n",
       "4  2a5c8defed0648c49c0742a7582ac797   \n",
       "\n",
       "                                         creator_bio  \\\n",
       "0  I am a patriot, and proud supporter of the bes...   \n",
       "1  Faith✝️Family👨‍👩‍👧‍👦America🦅Trump🇺🇸Freedom💪Pro...   \n",
       "2  The vote is our primary right upon which all o...   \n",
       "3   All races were created equal by God!\\n#trump2020   \n",
       "4                       Judge Jeanine Pirro Fan Page   \n",
       "\n",
       "                 creator_coverPhoto  creator_human  creator_integration  \\\n",
       "0  f74d523f9d8e403f81f4587da9c24c4f          False                False   \n",
       "1  12d5f5bf38834ea7b6613ba4081096eb          False                False   \n",
       "2  25dc373993c64e75a8001fbc2d316468           True                False   \n",
       "3  6c0f247a2d0b4fbea0ec51546fe63c94           True                False   \n",
       "4  3d5b9bc72ee0463ba14a7b34c8a1e7db          False                False   \n",
       "\n",
       "       creator_joined              creator_name  creator_rss  \\\n",
       "0 2020-10-01 12:17:04                  Haley S.        False   \n",
       "1 2020-09-18 17:39:29              Cascadefalls        False   \n",
       "2 2020-11-07 21:07:29                Jack Jones        False   \n",
       "3 2020-11-08 22:20:23  President Elect Poppakap        False   \n",
       "4 2020-11-24 18:40:03       Judge Jeanine Pirro        False   \n",
       "\n",
       "               creator_profilePhoto          creator_username  \\\n",
       "0  82c3df8812b149ae87354125efdc6ccf       Absolutefusteration   \n",
       "1  0f077b2a7fa044e8a5f9e8856d04bdd6              Cascadefalls   \n",
       "2  fda1bc735d4844baa88ada3ea62d549d             1965jackjones   \n",
       "3  2a8c272773f249678cfa2cf758908944                  Poppakap   \n",
       "4  d4968d0b26f643daae7d3bd3975687c6  judgejeaninepirrofanpage   \n",
       "\n",
       "   creator_verified  creator_verifiedComments  creator_interactions  \\\n",
       "0             False                     False                   258   \n",
       "1             False                     False                   258   \n",
       "2             False                     False                     3   \n",
       "3             False                     False                   259   \n",
       "4             False                     False                   258   \n",
       "\n",
       "  creator_state  creator_score  \\\n",
       "0             1            117   \n",
       "1             1           3000   \n",
       "2             1           1500   \n",
       "3             1           2500   \n",
       "4             1           1800   \n",
       "\n",
       "                                            hashtags  nr_hashtags  \\\n",
       "0   sleepyjoe, trumpwon2020, stopthesteal, magaagain            4   \n",
       "1  jesusislord, trump2020, jesusmatters, bluelive...           58   \n",
       "2  donaldtrump, trump, presidenttrump, teamtrump,...           16   \n",
       "3                 electionfraud, fraud, stopthesteal            3   \n",
       "4  blm, dnc, trumptrain2020, freedom, facebook, l...           64   \n",
       "\n",
       "   nr_mentions  comments  impressions  reposts  upvotes  creator_badge_0  \\\n",
       "0            0         0            0        0        0            False   \n",
       "1            0         0            0        0        0            False   \n",
       "2            0         0            0        0        0             True   \n",
       "3            0         0            0        0        0             True   \n",
       "4            0         0            0        0        0            False   \n",
       "\n",
       "   creator_badge_1  creator_badge_2  creator_badge_3  creator_badge_4  \\\n",
       "0            False            False            False            False   \n",
       "1            False            False            False            False   \n",
       "2            False            False            False            False   \n",
       "3            False            False            False            False   \n",
       "4            False            False            False            False   \n",
       "\n",
       "   creator_badge_5  creator_badge_6  creator_badge_7  creator_badge_9  \\\n",
       "0            False            False            False            False   \n",
       "1            False            False            False            False   \n",
       "2            False            False            False            False   \n",
       "3            False            False            False            False   \n",
       "4            False            False            False            False   \n",
       "\n",
       "   nr_links  \n",
       "0         0  \n",
       "1         1  \n",
       "2         1  \n",
       "3         0  \n",
       "4         1  "
      ]
     },
     "execution_count": 557,
     "metadata": {},
     "output_type": "execute_result"
    }
   ],
   "source": [
    "data.head()"
   ]
  },
  {
   "cell_type": "markdown",
   "metadata": {},
   "source": [
    "### save cleaned data"
   ]
  },
  {
   "cell_type": "code",
   "execution_count": 558,
   "metadata": {},
   "outputs": [],
   "source": [
    "data.to_csv('data/stopthesteal_parsed.csv', index=False)"
   ]
  },
  {
   "cell_type": "markdown",
   "metadata": {},
   "source": [
    "## Extract hashtags"
   ]
  },
  {
   "cell_type": "code",
   "execution_count": 447,
   "metadata": {},
   "outputs": [],
   "source": [
    "def make_hashtag_dataframe(df):\n",
    "        \n",
    "    list_to_save = []\n",
    "    \n",
    "    for index, row in df.iterrows():\n",
    "        for hashtag in row['hashtags'].split(', '):\n",
    "            list_to_save.append([row['post_id'], row['creator_id'], row['post_date'], hashtag])\n",
    "            \n",
    "    return pd.DataFrame(list_to_save, columns=['post_id', 'creator_id', 'post_date', 'hashtag'])"
   ]
  },
  {
   "cell_type": "code",
   "execution_count": 448,
   "metadata": {},
   "outputs": [],
   "source": [
    "hashtag_data = make_hashtag_dataframe(data)"
   ]
  },
  {
   "cell_type": "code",
   "execution_count": 449,
   "metadata": {},
   "outputs": [
    {
     "data": {
      "text/html": [
       "<div>\n",
       "<style scoped>\n",
       "    .dataframe tbody tr th:only-of-type {\n",
       "        vertical-align: middle;\n",
       "    }\n",
       "\n",
       "    .dataframe tbody tr th {\n",
       "        vertical-align: top;\n",
       "    }\n",
       "\n",
       "    .dataframe thead th {\n",
       "        text-align: right;\n",
       "    }\n",
       "</style>\n",
       "<table border=\"1\" class=\"dataframe\">\n",
       "  <thead>\n",
       "    <tr style=\"text-align: right;\">\n",
       "      <th></th>\n",
       "      <th>post_id</th>\n",
       "      <th>creator_id</th>\n",
       "      <th>post_date</th>\n",
       "      <th>hashtag</th>\n",
       "    </tr>\n",
       "  </thead>\n",
       "  <tbody>\n",
       "    <tr>\n",
       "      <th>0</th>\n",
       "      <td>461b4cc3118142d2958a58ddeaa9f320</td>\n",
       "      <td>d8f57880bbd540e9a1e1bc89e46fdcef</td>\n",
       "      <td>2020-11-29 22:45:19</td>\n",
       "      <td>sleepyjoe</td>\n",
       "    </tr>\n",
       "    <tr>\n",
       "      <th>1</th>\n",
       "      <td>461b4cc3118142d2958a58ddeaa9f320</td>\n",
       "      <td>d8f57880bbd540e9a1e1bc89e46fdcef</td>\n",
       "      <td>2020-11-29 22:45:19</td>\n",
       "      <td>trumpwon2020</td>\n",
       "    </tr>\n",
       "    <tr>\n",
       "      <th>2</th>\n",
       "      <td>461b4cc3118142d2958a58ddeaa9f320</td>\n",
       "      <td>d8f57880bbd540e9a1e1bc89e46fdcef</td>\n",
       "      <td>2020-11-29 22:45:19</td>\n",
       "      <td>stopthesteal</td>\n",
       "    </tr>\n",
       "    <tr>\n",
       "      <th>3</th>\n",
       "      <td>461b4cc3118142d2958a58ddeaa9f320</td>\n",
       "      <td>d8f57880bbd540e9a1e1bc89e46fdcef</td>\n",
       "      <td>2020-11-29 22:45:19</td>\n",
       "      <td>magaagain</td>\n",
       "    </tr>\n",
       "    <tr>\n",
       "      <th>4</th>\n",
       "      <td>b5c7b951ea1d485db3b490b8f07f56be</td>\n",
       "      <td>5ef511800e6e48d8b23e92d37467b718</td>\n",
       "      <td>2020-11-29 22:45:16</td>\n",
       "      <td>jesusislord</td>\n",
       "    </tr>\n",
       "  </tbody>\n",
       "</table>\n",
       "</div>"
      ],
      "text/plain": [
       "                            post_id                        creator_id  \\\n",
       "0  461b4cc3118142d2958a58ddeaa9f320  d8f57880bbd540e9a1e1bc89e46fdcef   \n",
       "1  461b4cc3118142d2958a58ddeaa9f320  d8f57880bbd540e9a1e1bc89e46fdcef   \n",
       "2  461b4cc3118142d2958a58ddeaa9f320  d8f57880bbd540e9a1e1bc89e46fdcef   \n",
       "3  461b4cc3118142d2958a58ddeaa9f320  d8f57880bbd540e9a1e1bc89e46fdcef   \n",
       "4  b5c7b951ea1d485db3b490b8f07f56be  5ef511800e6e48d8b23e92d37467b718   \n",
       "\n",
       "             post_date       hashtag  \n",
       "0  2020-11-29 22:45:19     sleepyjoe  \n",
       "1  2020-11-29 22:45:19  trumpwon2020  \n",
       "2  2020-11-29 22:45:19  stopthesteal  \n",
       "3  2020-11-29 22:45:19     magaagain  \n",
       "4  2020-11-29 22:45:16   jesusislord  "
      ]
     },
     "execution_count": 449,
     "metadata": {},
     "output_type": "execute_result"
    }
   ],
   "source": [
    "hashtag_data.head()"
   ]
  },
  {
   "cell_type": "code",
   "execution_count": 450,
   "metadata": {},
   "outputs": [
    {
     "data": {
      "text/plain": [
       "(4282346, 4)"
      ]
     },
     "execution_count": 450,
     "metadata": {},
     "output_type": "execute_result"
    }
   ],
   "source": [
    "hashtag_data.shape"
   ]
  },
  {
   "cell_type": "code",
   "execution_count": 451,
   "metadata": {},
   "outputs": [],
   "source": [
    "hashtag_data.to_csv('data/hashtag_data.csv', index =  False)"
   ]
  },
  {
   "cell_type": "markdown",
   "metadata": {},
   "source": [
    "## Extract user information"
   ]
  },
  {
   "cell_type": "markdown",
   "metadata": {},
   "source": [
    "Note on this dropping duplicates: as this dataset has a temporal dimension, some users will have a different number of followers, badges etc overtime. But drop duplicates will save the first row it finds, which will be the latest post, and therefore the most up to date one. Of course, for more precise current information, we would need to query parler for user stats."
   ]
  },
  {
   "cell_type": "code",
   "execution_count": 562,
   "metadata": {},
   "outputs": [],
   "source": [
    "users = data.drop_duplicates(subset=['creator_id'])"
   ]
  },
  {
   "cell_type": "code",
   "execution_count": 563,
   "metadata": {},
   "outputs": [
    {
     "data": {
      "text/plain": [
       "(44909, 42)"
      ]
     },
     "execution_count": 563,
     "metadata": {},
     "output_type": "execute_result"
    }
   ],
   "source": [
    "users.shape"
   ]
  },
  {
   "cell_type": "code",
   "execution_count": 564,
   "metadata": {},
   "outputs": [],
   "source": [
    "users.index = pd.to_datetime(users.creator_joined)"
   ]
  },
  {
   "cell_type": "code",
   "execution_count": 565,
   "metadata": {},
   "outputs": [],
   "source": [
    "# only keep columns I need because I am mildly OCD\n",
    "users = users[['creator_id', 'creator_bio',\n",
    "       'creator_coverPhoto', 'creator_human', 'creator_integration',\n",
    "       'creator_joined', 'creator_name', 'creator_rss', 'creator_profilePhoto',\n",
    "       'creator_username', 'creator_verified', 'creator_verifiedComments',\n",
    "       'creator_interactions', 'creator_state', 'creator_score', 'creator_badge_0', \n",
    "       'creator_badge_1', 'creator_badge_2',\n",
    "       'creator_badge_3', 'creator_badge_4', 'creator_badge_5',\n",
    "       'creator_badge_6', 'creator_badge_7', 'creator_badge_9']]"
   ]
  },
  {
   "cell_type": "code",
   "execution_count": 566,
   "metadata": {},
   "outputs": [],
   "source": [
    "# Get mean values for numeric indicators of post success\n",
    "user_posts_table = data.groupby('creator_id')[['nr_hashtags', 'nr_mentions', 'nr_links', \n",
    "                  'comments', 'impressions', 'reposts', 'upvotes']].agg('mean').reset_index()"
   ]
  },
  {
   "cell_type": "code",
   "execution_count": 567,
   "metadata": {},
   "outputs": [],
   "source": [
    "# Get number of posts in dataset per user\n",
    "user_post_no = data['creator_id'].value_counts().to_frame()\n",
    "user_post_no.columns = ['nr_posts']\n",
    "user_posts_table = user_posts_table.merge(user_post_no, left_on='creator_id', right_index = True)"
   ]
  },
  {
   "cell_type": "code",
   "execution_count": 568,
   "metadata": {},
   "outputs": [],
   "source": [
    "# get number of posts that are echos\n",
    "data['echo_numeric'] = np.where(data['depth'] == 0, 0, 1)\n",
    "no_echos = data.groupby('creator_id')[['echo_numeric']].agg('sum').reset_index()\n",
    "user_posts_table = user_posts_table.merge(no_echos, left_on='creator_id', right_on = 'creator_id')"
   ]
  },
  {
   "cell_type": "code",
   "execution_count": 569,
   "metadata": {},
   "outputs": [],
   "source": [
    "# rename columns\n",
    "user_posts_table.columns = ['creator_id', 'nr_hashtags', 'nr_mentions', 'nr_links', 'mean_comments',\n",
    "       'mean_impressions', 'mean_reposts', 'mean_upvotes', 'nr_posts', 'nr_echos']"
   ]
  },
  {
   "cell_type": "code",
   "execution_count": 570,
   "metadata": {},
   "outputs": [],
   "source": [
    "# calculate echo to post ration\n",
    "user_posts_table['echo_ratio'] = user_posts_table['nr_echos'] / user_posts_table['nr_posts']"
   ]
  },
  {
   "cell_type": "code",
   "execution_count": 571,
   "metadata": {},
   "outputs": [],
   "source": [
    "users = users.merge(user_posts_table, left_on='creator_id', right_on = 'creator_id')"
   ]
  },
  {
   "cell_type": "code",
   "execution_count": 572,
   "metadata": {},
   "outputs": [
    {
     "data": {
      "text/plain": [
       "(44909, 34)"
      ]
     },
     "execution_count": 572,
     "metadata": {},
     "output_type": "execute_result"
    }
   ],
   "source": [
    "users.shape"
   ]
  },
  {
   "cell_type": "code",
   "execution_count": 573,
   "metadata": {},
   "outputs": [
    {
     "data": {
      "text/html": [
       "<div>\n",
       "<style scoped>\n",
       "    .dataframe tbody tr th:only-of-type {\n",
       "        vertical-align: middle;\n",
       "    }\n",
       "\n",
       "    .dataframe tbody tr th {\n",
       "        vertical-align: top;\n",
       "    }\n",
       "\n",
       "    .dataframe thead th {\n",
       "        text-align: right;\n",
       "    }\n",
       "</style>\n",
       "<table border=\"1\" class=\"dataframe\">\n",
       "  <thead>\n",
       "    <tr style=\"text-align: right;\">\n",
       "      <th></th>\n",
       "      <th>creator_id</th>\n",
       "      <th>creator_bio</th>\n",
       "      <th>creator_coverPhoto</th>\n",
       "      <th>creator_human</th>\n",
       "      <th>creator_integration</th>\n",
       "      <th>creator_joined</th>\n",
       "      <th>creator_name</th>\n",
       "      <th>creator_rss</th>\n",
       "      <th>creator_profilePhoto</th>\n",
       "      <th>creator_username</th>\n",
       "      <th>creator_verified</th>\n",
       "      <th>creator_verifiedComments</th>\n",
       "      <th>creator_interactions</th>\n",
       "      <th>creator_state</th>\n",
       "      <th>creator_score</th>\n",
       "      <th>creator_badge_0</th>\n",
       "      <th>creator_badge_1</th>\n",
       "      <th>creator_badge_2</th>\n",
       "      <th>creator_badge_3</th>\n",
       "      <th>creator_badge_4</th>\n",
       "      <th>creator_badge_5</th>\n",
       "      <th>creator_badge_6</th>\n",
       "      <th>creator_badge_7</th>\n",
       "      <th>creator_badge_9</th>\n",
       "      <th>nr_hashtags</th>\n",
       "      <th>nr_mentions</th>\n",
       "      <th>nr_links</th>\n",
       "      <th>mean_comments</th>\n",
       "      <th>mean_impressions</th>\n",
       "      <th>mean_reposts</th>\n",
       "      <th>mean_upvotes</th>\n",
       "      <th>nr_posts</th>\n",
       "      <th>nr_echos</th>\n",
       "      <th>echo_ratio</th>\n",
       "    </tr>\n",
       "  </thead>\n",
       "  <tbody>\n",
       "    <tr>\n",
       "      <th>0</th>\n",
       "      <td>d8f57880bbd540e9a1e1bc89e46fdcef</td>\n",
       "      <td>I am a patriot, and proud supporter of the bes...</td>\n",
       "      <td>f74d523f9d8e403f81f4587da9c24c4f</td>\n",
       "      <td>False</td>\n",
       "      <td>False</td>\n",
       "      <td>2020-10-01 12:17:04</td>\n",
       "      <td>Haley S.</td>\n",
       "      <td>False</td>\n",
       "      <td>82c3df8812b149ae87354125efdc6ccf</td>\n",
       "      <td>Absolutefusteration</td>\n",
       "      <td>False</td>\n",
       "      <td>False</td>\n",
       "      <td>258</td>\n",
       "      <td>1.0</td>\n",
       "      <td>117</td>\n",
       "      <td>False</td>\n",
       "      <td>False</td>\n",
       "      <td>False</td>\n",
       "      <td>False</td>\n",
       "      <td>False</td>\n",
       "      <td>False</td>\n",
       "      <td>False</td>\n",
       "      <td>False</td>\n",
       "      <td>False</td>\n",
       "      <td>3.185185</td>\n",
       "      <td>0.000000</td>\n",
       "      <td>0.037037</td>\n",
       "      <td>0.074074</td>\n",
       "      <td>108.370370</td>\n",
       "      <td>0.000000</td>\n",
       "      <td>0.703704</td>\n",
       "      <td>27</td>\n",
       "      <td>2</td>\n",
       "      <td>0.074074</td>\n",
       "    </tr>\n",
       "    <tr>\n",
       "      <th>1</th>\n",
       "      <td>5ef511800e6e48d8b23e92d37467b718</td>\n",
       "      <td>Faith✝️Family👨‍👩‍👧‍👦America🦅Trump🇺🇸Freedom💪Pro...</td>\n",
       "      <td>12d5f5bf38834ea7b6613ba4081096eb</td>\n",
       "      <td>False</td>\n",
       "      <td>False</td>\n",
       "      <td>2020-09-18 17:39:29</td>\n",
       "      <td>Cascadefalls</td>\n",
       "      <td>False</td>\n",
       "      <td>0f077b2a7fa044e8a5f9e8856d04bdd6</td>\n",
       "      <td>Cascadefalls</td>\n",
       "      <td>False</td>\n",
       "      <td>False</td>\n",
       "      <td>258</td>\n",
       "      <td>1.0</td>\n",
       "      <td>3000</td>\n",
       "      <td>False</td>\n",
       "      <td>False</td>\n",
       "      <td>False</td>\n",
       "      <td>False</td>\n",
       "      <td>False</td>\n",
       "      <td>False</td>\n",
       "      <td>False</td>\n",
       "      <td>False</td>\n",
       "      <td>False</td>\n",
       "      <td>57.216667</td>\n",
       "      <td>0.001515</td>\n",
       "      <td>0.298485</td>\n",
       "      <td>0.224242</td>\n",
       "      <td>687.254545</td>\n",
       "      <td>0.922727</td>\n",
       "      <td>2.227273</td>\n",
       "      <td>660</td>\n",
       "      <td>464</td>\n",
       "      <td>0.703030</td>\n",
       "    </tr>\n",
       "    <tr>\n",
       "      <th>2</th>\n",
       "      <td>765cdf14184243259ad5fddb71a854ce</td>\n",
       "      <td>The vote is our primary right upon which all o...</td>\n",
       "      <td>25dc373993c64e75a8001fbc2d316468</td>\n",
       "      <td>True</td>\n",
       "      <td>False</td>\n",
       "      <td>2020-11-07 21:07:29</td>\n",
       "      <td>Jack Jones</td>\n",
       "      <td>False</td>\n",
       "      <td>fda1bc735d4844baa88ada3ea62d549d</td>\n",
       "      <td>1965jackjones</td>\n",
       "      <td>False</td>\n",
       "      <td>False</td>\n",
       "      <td>3</td>\n",
       "      <td>1.0</td>\n",
       "      <td>1500</td>\n",
       "      <td>True</td>\n",
       "      <td>False</td>\n",
       "      <td>False</td>\n",
       "      <td>False</td>\n",
       "      <td>False</td>\n",
       "      <td>False</td>\n",
       "      <td>False</td>\n",
       "      <td>False</td>\n",
       "      <td>False</td>\n",
       "      <td>11.448000</td>\n",
       "      <td>0.032000</td>\n",
       "      <td>0.988000</td>\n",
       "      <td>0.140000</td>\n",
       "      <td>316.320000</td>\n",
       "      <td>0.688000</td>\n",
       "      <td>1.592000</td>\n",
       "      <td>250</td>\n",
       "      <td>5</td>\n",
       "      <td>0.020000</td>\n",
       "    </tr>\n",
       "    <tr>\n",
       "      <th>3</th>\n",
       "      <td>a32f450ba92d4a9486b0fb1b94ee397f</td>\n",
       "      <td>All races were created equal by God!\\n#trump2020</td>\n",
       "      <td>6c0f247a2d0b4fbea0ec51546fe63c94</td>\n",
       "      <td>True</td>\n",
       "      <td>False</td>\n",
       "      <td>2020-11-08 22:20:23</td>\n",
       "      <td>President Elect Poppakap</td>\n",
       "      <td>False</td>\n",
       "      <td>2a8c272773f249678cfa2cf758908944</td>\n",
       "      <td>Poppakap</td>\n",
       "      <td>False</td>\n",
       "      <td>False</td>\n",
       "      <td>259</td>\n",
       "      <td>1.0</td>\n",
       "      <td>2500</td>\n",
       "      <td>True</td>\n",
       "      <td>False</td>\n",
       "      <td>False</td>\n",
       "      <td>False</td>\n",
       "      <td>False</td>\n",
       "      <td>False</td>\n",
       "      <td>False</td>\n",
       "      <td>False</td>\n",
       "      <td>False</td>\n",
       "      <td>6.600000</td>\n",
       "      <td>0.050000</td>\n",
       "      <td>0.450000</td>\n",
       "      <td>0.525000</td>\n",
       "      <td>444.900000</td>\n",
       "      <td>1.225000</td>\n",
       "      <td>2.350000</td>\n",
       "      <td>40</td>\n",
       "      <td>20</td>\n",
       "      <td>0.500000</td>\n",
       "    </tr>\n",
       "    <tr>\n",
       "      <th>4</th>\n",
       "      <td>2a5c8defed0648c49c0742a7582ac797</td>\n",
       "      <td>Judge Jeanine Pirro Fan Page</td>\n",
       "      <td>3d5b9bc72ee0463ba14a7b34c8a1e7db</td>\n",
       "      <td>False</td>\n",
       "      <td>False</td>\n",
       "      <td>2020-11-24 18:40:03</td>\n",
       "      <td>Judge Jeanine Pirro</td>\n",
       "      <td>False</td>\n",
       "      <td>d4968d0b26f643daae7d3bd3975687c6</td>\n",
       "      <td>judgejeaninepirrofanpage</td>\n",
       "      <td>False</td>\n",
       "      <td>False</td>\n",
       "      <td>258</td>\n",
       "      <td>1.0</td>\n",
       "      <td>1800</td>\n",
       "      <td>False</td>\n",
       "      <td>False</td>\n",
       "      <td>False</td>\n",
       "      <td>False</td>\n",
       "      <td>False</td>\n",
       "      <td>False</td>\n",
       "      <td>False</td>\n",
       "      <td>False</td>\n",
       "      <td>False</td>\n",
       "      <td>65.319149</td>\n",
       "      <td>0.007092</td>\n",
       "      <td>0.794326</td>\n",
       "      <td>1.617021</td>\n",
       "      <td>2006.255319</td>\n",
       "      <td>6.035461</td>\n",
       "      <td>9.177305</td>\n",
       "      <td>141</td>\n",
       "      <td>29</td>\n",
       "      <td>0.205674</td>\n",
       "    </tr>\n",
       "  </tbody>\n",
       "</table>\n",
       "</div>"
      ],
      "text/plain": [
       "                         creator_id  \\\n",
       "0  d8f57880bbd540e9a1e1bc89e46fdcef   \n",
       "1  5ef511800e6e48d8b23e92d37467b718   \n",
       "2  765cdf14184243259ad5fddb71a854ce   \n",
       "3  a32f450ba92d4a9486b0fb1b94ee397f   \n",
       "4  2a5c8defed0648c49c0742a7582ac797   \n",
       "\n",
       "                                         creator_bio  \\\n",
       "0  I am a patriot, and proud supporter of the bes...   \n",
       "1  Faith✝️Family👨‍👩‍👧‍👦America🦅Trump🇺🇸Freedom💪Pro...   \n",
       "2  The vote is our primary right upon which all o...   \n",
       "3   All races were created equal by God!\\n#trump2020   \n",
       "4                       Judge Jeanine Pirro Fan Page   \n",
       "\n",
       "                 creator_coverPhoto  creator_human  creator_integration  \\\n",
       "0  f74d523f9d8e403f81f4587da9c24c4f          False                False   \n",
       "1  12d5f5bf38834ea7b6613ba4081096eb          False                False   \n",
       "2  25dc373993c64e75a8001fbc2d316468           True                False   \n",
       "3  6c0f247a2d0b4fbea0ec51546fe63c94           True                False   \n",
       "4  3d5b9bc72ee0463ba14a7b34c8a1e7db          False                False   \n",
       "\n",
       "        creator_joined              creator_name  creator_rss  \\\n",
       "0  2020-10-01 12:17:04                  Haley S.        False   \n",
       "1  2020-09-18 17:39:29              Cascadefalls        False   \n",
       "2  2020-11-07 21:07:29                Jack Jones        False   \n",
       "3  2020-11-08 22:20:23  President Elect Poppakap        False   \n",
       "4  2020-11-24 18:40:03       Judge Jeanine Pirro        False   \n",
       "\n",
       "               creator_profilePhoto          creator_username  \\\n",
       "0  82c3df8812b149ae87354125efdc6ccf       Absolutefusteration   \n",
       "1  0f077b2a7fa044e8a5f9e8856d04bdd6              Cascadefalls   \n",
       "2  fda1bc735d4844baa88ada3ea62d549d             1965jackjones   \n",
       "3  2a8c272773f249678cfa2cf758908944                  Poppakap   \n",
       "4  d4968d0b26f643daae7d3bd3975687c6  judgejeaninepirrofanpage   \n",
       "\n",
       "   creator_verified  creator_verifiedComments  creator_interactions  \\\n",
       "0             False                     False                   258   \n",
       "1             False                     False                   258   \n",
       "2             False                     False                     3   \n",
       "3             False                     False                   259   \n",
       "4             False                     False                   258   \n",
       "\n",
       "   creator_state  creator_score  creator_badge_0  creator_badge_1  \\\n",
       "0            1.0            117            False            False   \n",
       "1            1.0           3000            False            False   \n",
       "2            1.0           1500             True            False   \n",
       "3            1.0           2500             True            False   \n",
       "4            1.0           1800            False            False   \n",
       "\n",
       "   creator_badge_2  creator_badge_3  creator_badge_4  creator_badge_5  \\\n",
       "0            False            False            False            False   \n",
       "1            False            False            False            False   \n",
       "2            False            False            False            False   \n",
       "3            False            False            False            False   \n",
       "4            False            False            False            False   \n",
       "\n",
       "   creator_badge_6  creator_badge_7  creator_badge_9  nr_hashtags  \\\n",
       "0            False            False            False     3.185185   \n",
       "1            False            False            False    57.216667   \n",
       "2            False            False            False    11.448000   \n",
       "3            False            False            False     6.600000   \n",
       "4            False            False            False    65.319149   \n",
       "\n",
       "   nr_mentions  nr_links  mean_comments  mean_impressions  mean_reposts  \\\n",
       "0     0.000000  0.037037       0.074074        108.370370      0.000000   \n",
       "1     0.001515  0.298485       0.224242        687.254545      0.922727   \n",
       "2     0.032000  0.988000       0.140000        316.320000      0.688000   \n",
       "3     0.050000  0.450000       0.525000        444.900000      1.225000   \n",
       "4     0.007092  0.794326       1.617021       2006.255319      6.035461   \n",
       "\n",
       "   mean_upvotes  nr_posts  nr_echos  echo_ratio  \n",
       "0      0.703704        27         2    0.074074  \n",
       "1      2.227273       660       464    0.703030  \n",
       "2      1.592000       250         5    0.020000  \n",
       "3      2.350000        40        20    0.500000  \n",
       "4      9.177305       141        29    0.205674  "
      ]
     },
     "execution_count": 573,
     "metadata": {},
     "output_type": "execute_result"
    }
   ],
   "source": [
    "users.head()"
   ]
  },
  {
   "cell_type": "code",
   "execution_count": 574,
   "metadata": {},
   "outputs": [],
   "source": [
    "users.to_csv('data/users_data.csv', index =  False)"
   ]
  },
  {
   "cell_type": "markdown",
   "metadata": {},
   "source": [
    "## Export hashtag coocurence data for network analysis"
   ]
  },
  {
   "cell_type": "code",
   "execution_count": 579,
   "metadata": {},
   "outputs": [],
   "source": [
    "from itertools import combinations\n",
    "\n",
    "def make_cooc_df(df):\n",
    "        \n",
    "    list_to_save = []\n",
    "    \n",
    "    for index, row in df.iterrows():\n",
    "        hashtaglist = row['hashtags'].split(', ')\n",
    "        \n",
    "        for h1, h2 in combinations(hashtaglist, 2):\n",
    "            if h1 < h2:\n",
    "                list_to_save.append([h1, h2, row['creator_id']])\n",
    "            else:\n",
    "                list_to_save.append([h2, h1, row['creator_id']])\n",
    "            \n",
    "    return pd.DataFrame(list_to_save, columns=['hashtag1', 'hashtag2', 'creator_id'])"
   ]
  },
  {
   "cell_type": "code",
   "execution_count": 580,
   "metadata": {},
   "outputs": [],
   "source": [
    "hashtag_cooc_data = make_cooc_df(data)"
   ]
  },
  {
   "cell_type": "code",
   "execution_count": 581,
   "metadata": {},
   "outputs": [
    {
     "data": {
      "text/html": [
       "<div>\n",
       "<style scoped>\n",
       "    .dataframe tbody tr th:only-of-type {\n",
       "        vertical-align: middle;\n",
       "    }\n",
       "\n",
       "    .dataframe tbody tr th {\n",
       "        vertical-align: top;\n",
       "    }\n",
       "\n",
       "    .dataframe thead th {\n",
       "        text-align: right;\n",
       "    }\n",
       "</style>\n",
       "<table border=\"1\" class=\"dataframe\">\n",
       "  <thead>\n",
       "    <tr style=\"text-align: right;\">\n",
       "      <th></th>\n",
       "      <th>hashtag1</th>\n",
       "      <th>hashtag2</th>\n",
       "      <th>creator_id</th>\n",
       "    </tr>\n",
       "  </thead>\n",
       "  <tbody>\n",
       "    <tr>\n",
       "      <th>0</th>\n",
       "      <td>sleepyjoe</td>\n",
       "      <td>trumpwon2020</td>\n",
       "      <td>d8f57880bbd540e9a1e1bc89e46fdcef</td>\n",
       "    </tr>\n",
       "    <tr>\n",
       "      <th>1</th>\n",
       "      <td>sleepyjoe</td>\n",
       "      <td>stopthesteal</td>\n",
       "      <td>d8f57880bbd540e9a1e1bc89e46fdcef</td>\n",
       "    </tr>\n",
       "    <tr>\n",
       "      <th>2</th>\n",
       "      <td>magaagain</td>\n",
       "      <td>sleepyjoe</td>\n",
       "      <td>d8f57880bbd540e9a1e1bc89e46fdcef</td>\n",
       "    </tr>\n",
       "    <tr>\n",
       "      <th>3</th>\n",
       "      <td>stopthesteal</td>\n",
       "      <td>trumpwon2020</td>\n",
       "      <td>d8f57880bbd540e9a1e1bc89e46fdcef</td>\n",
       "    </tr>\n",
       "    <tr>\n",
       "      <th>4</th>\n",
       "      <td>magaagain</td>\n",
       "      <td>trumpwon2020</td>\n",
       "      <td>d8f57880bbd540e9a1e1bc89e46fdcef</td>\n",
       "    </tr>\n",
       "  </tbody>\n",
       "</table>\n",
       "</div>"
      ],
      "text/plain": [
       "       hashtag1      hashtag2                        creator_id\n",
       "0     sleepyjoe  trumpwon2020  d8f57880bbd540e9a1e1bc89e46fdcef\n",
       "1     sleepyjoe  stopthesteal  d8f57880bbd540e9a1e1bc89e46fdcef\n",
       "2     magaagain     sleepyjoe  d8f57880bbd540e9a1e1bc89e46fdcef\n",
       "3  stopthesteal  trumpwon2020  d8f57880bbd540e9a1e1bc89e46fdcef\n",
       "4     magaagain  trumpwon2020  d8f57880bbd540e9a1e1bc89e46fdcef"
      ]
     },
     "execution_count": 581,
     "metadata": {},
     "output_type": "execute_result"
    }
   ],
   "source": [
    "hashtag_cooc_data.head()"
   ]
  },
  {
   "cell_type": "code",
   "execution_count": 582,
   "metadata": {},
   "outputs": [
    {
     "data": {
      "text/plain": [
       "(80735677, 3)"
      ]
     },
     "execution_count": 582,
     "metadata": {},
     "output_type": "execute_result"
    }
   ],
   "source": [
    "hashtag_cooc_data.shape"
   ]
  },
  {
   "cell_type": "code",
   "execution_count": 583,
   "metadata": {},
   "outputs": [],
   "source": [
    "hashtag_cooc_weighted = hashtag_cooc_data.groupby([\"hashtag1\", \"hashtag2\"]).size().reset_index(name=\"co_occurences\")"
   ]
  },
  {
   "cell_type": "code",
   "execution_count": 587,
   "metadata": {},
   "outputs": [
    {
     "data": {
      "text/html": [
       "<div>\n",
       "<style scoped>\n",
       "    .dataframe tbody tr th:only-of-type {\n",
       "        vertical-align: middle;\n",
       "    }\n",
       "\n",
       "    .dataframe tbody tr th {\n",
       "        vertical-align: top;\n",
       "    }\n",
       "\n",
       "    .dataframe thead th {\n",
       "        text-align: right;\n",
       "    }\n",
       "</style>\n",
       "<table border=\"1\" class=\"dataframe\">\n",
       "  <thead>\n",
       "    <tr style=\"text-align: right;\">\n",
       "      <th></th>\n",
       "      <th>hashtag1</th>\n",
       "      <th>hashtag2</th>\n",
       "      <th>co_occurences</th>\n",
       "    </tr>\n",
       "  </thead>\n",
       "  <tbody>\n",
       "    <tr>\n",
       "      <th>1744884</th>\n",
       "      <td>quanon</td>\n",
       "      <td>trumpisourpresident</td>\n",
       "      <td>1</td>\n",
       "    </tr>\n",
       "    <tr>\n",
       "      <th>1581340</th>\n",
       "      <td>neverdips</td>\n",
       "      <td>youseek</td>\n",
       "      <td>1</td>\n",
       "    </tr>\n",
       "    <tr>\n",
       "      <th>1898574</th>\n",
       "      <td>thereformparty</td>\n",
       "      <td>trump</td>\n",
       "      <td>1</td>\n",
       "    </tr>\n",
       "    <tr>\n",
       "      <th>1825978</th>\n",
       "      <td>skynewsaustralia</td>\n",
       "      <td>stopcommunism</td>\n",
       "      <td>1</td>\n",
       "    </tr>\n",
       "    <tr>\n",
       "      <th>1296895</th>\n",
       "      <td>ingodwetrust</td>\n",
       "      <td>treason</td>\n",
       "      <td>5</td>\n",
       "    </tr>\n",
       "    <tr>\n",
       "      <th>1900841</th>\n",
       "      <td>thetruthwillprevail</td>\n",
       "      <td>trump2020landslide</td>\n",
       "      <td>30</td>\n",
       "    </tr>\n",
       "    <tr>\n",
       "      <th>31330</th>\n",
       "      <td>223</td>\n",
       "      <td>releasethekraken</td>\n",
       "      <td>2</td>\n",
       "    </tr>\n",
       "    <tr>\n",
       "      <th>890999</th>\n",
       "      <td>electionfraud</td>\n",
       "      <td>oneworldorder</td>\n",
       "      <td>4</td>\n",
       "    </tr>\n",
       "    <tr>\n",
       "      <th>1472348</th>\n",
       "      <td>maga</td>\n",
       "      <td>rose</td>\n",
       "      <td>4</td>\n",
       "    </tr>\n",
       "    <tr>\n",
       "      <th>446158</th>\n",
       "      <td>catholicdetroit</td>\n",
       "      <td>joebiden</td>\n",
       "      <td>1</td>\n",
       "    </tr>\n",
       "  </tbody>\n",
       "</table>\n",
       "</div>"
      ],
      "text/plain": [
       "                    hashtag1             hashtag2  co_occurences\n",
       "1744884               quanon  trumpisourpresident              1\n",
       "1581340            neverdips              youseek              1\n",
       "1898574       thereformparty                trump              1\n",
       "1825978     skynewsaustralia        stopcommunism              1\n",
       "1296895         ingodwetrust              treason              5\n",
       "1900841  thetruthwillprevail   trump2020landslide             30\n",
       "31330                    223     releasethekraken              2\n",
       "890999         electionfraud        oneworldorder              4\n",
       "1472348                 maga                 rose              4\n",
       "446158       catholicdetroit             joebiden              1"
      ]
     },
     "execution_count": 587,
     "metadata": {},
     "output_type": "execute_result"
    }
   ],
   "source": [
    "hashtag_cooc_weighted.sample(10)"
   ]
  },
  {
   "cell_type": "code",
   "execution_count": 588,
   "metadata": {},
   "outputs": [
    {
     "data": {
      "text/plain": [
       "(1965290, 3)"
      ]
     },
     "execution_count": 588,
     "metadata": {},
     "output_type": "execute_result"
    }
   ],
   "source": [
    "hashtag_cooc_weighted.shape"
   ]
  },
  {
   "cell_type": "code",
   "execution_count": 596,
   "metadata": {},
   "outputs": [],
   "source": [
    "hashtag_cooc_weighted.to_csv('data/hashtag_cooc_full.csv', index =  False)"
   ]
  },
  {
   "cell_type": "code",
   "execution_count": 595,
   "metadata": {},
   "outputs": [
    {
     "data": {
      "text/plain": [
       "(433525, 3)"
      ]
     },
     "execution_count": 595,
     "metadata": {},
     "output_type": "execute_result"
    }
   ],
   "source": [
    "hashtag_cooc_weighted[hashtag_cooc_weighted.co_occurences > 5].shape"
   ]
  },
  {
   "cell_type": "code",
   "execution_count": 597,
   "metadata": {},
   "outputs": [],
   "source": [
    "hashtag_cooc_weighted[hashtag_cooc_weighted.co_occurences > 5].to_csv('data/hashtag_cooc_small.csv', index =  False)"
   ]
  },
  {
   "cell_type": "markdown",
   "metadata": {},
   "source": [
    "### my 100 favourite pairs"
   ]
  },
  {
   "cell_type": "code",
   "execution_count": 601,
   "metadata": {},
   "outputs": [
    {
     "data": {
      "text/plain": [
       "(111495, 3)"
      ]
     },
     "execution_count": 601,
     "metadata": {},
     "output_type": "execute_result"
    }
   ],
   "source": [
    "hashtag_cooc_weighted[hashtag_cooc_weighted.co_occurences > 99].shape"
   ]
  },
  {
   "cell_type": "markdown",
   "metadata": {},
   "source": [
    "## ToDo list\n",
    "* extract parent field\n",
    "* extract root field"
   ]
  }
 ],
 "metadata": {
  "kernelspec": {
   "display_name": "Python 3",
   "language": "python",
   "name": "python3"
  },
  "language_info": {
   "codemirror_mode": {
    "name": "ipython",
    "version": 3
   },
   "file_extension": ".py",
   "mimetype": "text/x-python",
   "name": "python",
   "nbconvert_exporter": "python",
   "pygments_lexer": "ipython3",
   "version": "3.8.3"
  }
 },
 "nbformat": 4,
 "nbformat_minor": 4
}
